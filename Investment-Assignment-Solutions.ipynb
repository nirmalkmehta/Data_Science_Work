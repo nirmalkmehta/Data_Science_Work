{
 "cells": [
  {
   "cell_type": "code",
   "execution_count": 420,
   "metadata": {},
   "outputs": [],
   "source": [
    "import pandas as pd\n",
    "import numpy as np\n",
    "import warnings\n",
    "warnings.filterwarnings('ignore')\n",
    "import matplotlib.pyplot as plt\n",
    "import seaborn as sns"
   ]
  },
  {
   "cell_type": "markdown",
   "metadata": {},
   "source": [
    "# Checkpoint 1: Data Cleaning 1"
   ]
  },
  {
   "cell_type": "code",
   "execution_count": 421,
   "metadata": {},
   "outputs": [],
   "source": [
    "# File path of companies and rounds2 data\n",
    "\n",
    "companyFilePath=\"C:/Assignments/InvestmentAssignments/Data/companies.csv\"\n",
    "roundsFilePath=\"C:/Assignments/InvestmentAssignments/Data/rounds2.csv\"\n",
    "mappingFilePath=\"C:/Assignments/InvestmentAssignments/Data/mapping.csv\"\n"
   ]
  },
  {
   "cell_type": "code",
   "execution_count": 422,
   "metadata": {},
   "outputs": [
    {
     "data": {
      "text/html": [
       "<div>\n",
       "<style scoped>\n",
       "    .dataframe tbody tr th:only-of-type {\n",
       "        vertical-align: middle;\n",
       "    }\n",
       "\n",
       "    .dataframe tbody tr th {\n",
       "        vertical-align: top;\n",
       "    }\n",
       "\n",
       "    .dataframe thead th {\n",
       "        text-align: right;\n",
       "    }\n",
       "</style>\n",
       "<table border=\"1\" class=\"dataframe\">\n",
       "  <thead>\n",
       "    <tr style=\"text-align: right;\">\n",
       "      <th></th>\n",
       "      <th>permalink</th>\n",
       "      <th>name</th>\n",
       "      <th>homepage_url</th>\n",
       "      <th>category_list</th>\n",
       "      <th>status</th>\n",
       "      <th>country_code</th>\n",
       "      <th>state_code</th>\n",
       "      <th>region</th>\n",
       "      <th>city</th>\n",
       "      <th>founded_at</th>\n",
       "    </tr>\n",
       "  </thead>\n",
       "  <tbody>\n",
       "    <tr>\n",
       "      <th>0</th>\n",
       "      <td>/Organization/-Fame</td>\n",
       "      <td>#fame</td>\n",
       "      <td>http://livfame.com</td>\n",
       "      <td>Media</td>\n",
       "      <td>operating</td>\n",
       "      <td>IND</td>\n",
       "      <td>16</td>\n",
       "      <td>Mumbai</td>\n",
       "      <td>Mumbai</td>\n",
       "      <td>NaN</td>\n",
       "    </tr>\n",
       "    <tr>\n",
       "      <th>1</th>\n",
       "      <td>/Organization/-Qounter</td>\n",
       "      <td>:Qounter</td>\n",
       "      <td>http://www.qounter.com</td>\n",
       "      <td>Application Platforms|Real Time|Social Network...</td>\n",
       "      <td>operating</td>\n",
       "      <td>USA</td>\n",
       "      <td>DE</td>\n",
       "      <td>DE - Other</td>\n",
       "      <td>Delaware City</td>\n",
       "      <td>04-09-2014</td>\n",
       "    </tr>\n",
       "    <tr>\n",
       "      <th>2</th>\n",
       "      <td>/Organization/-The-One-Of-Them-Inc-</td>\n",
       "      <td>(THE) ONE of THEM,Inc.</td>\n",
       "      <td>http://oneofthem.jp</td>\n",
       "      <td>Apps|Games|Mobile</td>\n",
       "      <td>operating</td>\n",
       "      <td>NaN</td>\n",
       "      <td>NaN</td>\n",
       "      <td>NaN</td>\n",
       "      <td>NaN</td>\n",
       "      <td>NaN</td>\n",
       "    </tr>\n",
       "    <tr>\n",
       "      <th>3</th>\n",
       "      <td>/Organization/0-6-Com</td>\n",
       "      <td>0-6.com</td>\n",
       "      <td>http://www.0-6.com</td>\n",
       "      <td>Curated Web</td>\n",
       "      <td>operating</td>\n",
       "      <td>CHN</td>\n",
       "      <td>22</td>\n",
       "      <td>Beijing</td>\n",
       "      <td>Beijing</td>\n",
       "      <td>01-01-2007</td>\n",
       "    </tr>\n",
       "    <tr>\n",
       "      <th>4</th>\n",
       "      <td>/Organization/004-Technologies</td>\n",
       "      <td>004 Technologies</td>\n",
       "      <td>http://004gmbh.de/en/004-interact</td>\n",
       "      <td>Software</td>\n",
       "      <td>operating</td>\n",
       "      <td>USA</td>\n",
       "      <td>IL</td>\n",
       "      <td>Springfield, Illinois</td>\n",
       "      <td>Champaign</td>\n",
       "      <td>01-01-2010</td>\n",
       "    </tr>\n",
       "  </tbody>\n",
       "</table>\n",
       "</div>"
      ],
      "text/plain": [
       "                             permalink                    name  \\\n",
       "0                  /Organization/-Fame                   #fame   \n",
       "1               /Organization/-Qounter                :Qounter   \n",
       "2  /Organization/-The-One-Of-Them-Inc-  (THE) ONE of THEM,Inc.   \n",
       "3                /Organization/0-6-Com                 0-6.com   \n",
       "4       /Organization/004-Technologies        004 Technologies   \n",
       "\n",
       "                        homepage_url  \\\n",
       "0                 http://livfame.com   \n",
       "1             http://www.qounter.com   \n",
       "2                http://oneofthem.jp   \n",
       "3                 http://www.0-6.com   \n",
       "4  http://004gmbh.de/en/004-interact   \n",
       "\n",
       "                                       category_list     status country_code  \\\n",
       "0                                              Media  operating          IND   \n",
       "1  Application Platforms|Real Time|Social Network...  operating          USA   \n",
       "2                                  Apps|Games|Mobile  operating          NaN   \n",
       "3                                        Curated Web  operating          CHN   \n",
       "4                                           Software  operating          USA   \n",
       "\n",
       "  state_code                 region           city  founded_at  \n",
       "0         16                 Mumbai         Mumbai         NaN  \n",
       "1         DE             DE - Other  Delaware City  04-09-2014  \n",
       "2        NaN                    NaN            NaN         NaN  \n",
       "3         22                Beijing        Beijing  01-01-2007  \n",
       "4         IL  Springfield, Illinois      Champaign  01-01-2010  "
      ]
     },
     "execution_count": 422,
     "metadata": {},
     "output_type": "execute_result"
    }
   ],
   "source": [
    "# Loading companies data into a dataframe\n",
    "companies = pd.read_csv(companyFilePath, encoding=\"palmos\",engine=\"python\",sep=\",\")\n",
    "companies.head()"
   ]
  },
  {
   "cell_type": "code",
   "execution_count": 423,
   "metadata": {},
   "outputs": [
    {
     "data": {
      "text/html": [
       "<div>\n",
       "<style scoped>\n",
       "    .dataframe tbody tr th:only-of-type {\n",
       "        vertical-align: middle;\n",
       "    }\n",
       "\n",
       "    .dataframe tbody tr th {\n",
       "        vertical-align: top;\n",
       "    }\n",
       "\n",
       "    .dataframe thead th {\n",
       "        text-align: right;\n",
       "    }\n",
       "</style>\n",
       "<table border=\"1\" class=\"dataframe\">\n",
       "  <thead>\n",
       "    <tr style=\"text-align: right;\">\n",
       "      <th></th>\n",
       "      <th>company_permalink</th>\n",
       "      <th>funding_round_permalink</th>\n",
       "      <th>funding_round_type</th>\n",
       "      <th>funding_round_code</th>\n",
       "      <th>funded_at</th>\n",
       "      <th>raised_amount_usd</th>\n",
       "    </tr>\n",
       "  </thead>\n",
       "  <tbody>\n",
       "    <tr>\n",
       "      <th>0</th>\n",
       "      <td>/organization/-fame</td>\n",
       "      <td>/funding-round/9a01d05418af9f794eebff7ace91f638</td>\n",
       "      <td>venture</td>\n",
       "      <td>B</td>\n",
       "      <td>05-01-2015</td>\n",
       "      <td>10000000.00</td>\n",
       "    </tr>\n",
       "    <tr>\n",
       "      <th>1</th>\n",
       "      <td>/ORGANIZATION/-QOUNTER</td>\n",
       "      <td>/funding-round/22dacff496eb7acb2b901dec1dfe5633</td>\n",
       "      <td>venture</td>\n",
       "      <td>A</td>\n",
       "      <td>14-10-2014</td>\n",
       "      <td>nan</td>\n",
       "    </tr>\n",
       "    <tr>\n",
       "      <th>2</th>\n",
       "      <td>/organization/-qounter</td>\n",
       "      <td>/funding-round/b44fbb94153f6cdef13083530bb48030</td>\n",
       "      <td>seed</td>\n",
       "      <td>NaN</td>\n",
       "      <td>01-03-2014</td>\n",
       "      <td>700000.00</td>\n",
       "    </tr>\n",
       "    <tr>\n",
       "      <th>3</th>\n",
       "      <td>/ORGANIZATION/-THE-ONE-OF-THEM-INC-</td>\n",
       "      <td>/funding-round/650b8f704416801069bb178a1418776b</td>\n",
       "      <td>venture</td>\n",
       "      <td>B</td>\n",
       "      <td>30-01-2014</td>\n",
       "      <td>3406878.00</td>\n",
       "    </tr>\n",
       "    <tr>\n",
       "      <th>4</th>\n",
       "      <td>/organization/0-6-com</td>\n",
       "      <td>/funding-round/5727accaeaa57461bd22a9bdd945382d</td>\n",
       "      <td>venture</td>\n",
       "      <td>A</td>\n",
       "      <td>19-03-2008</td>\n",
       "      <td>2000000.00</td>\n",
       "    </tr>\n",
       "  </tbody>\n",
       "</table>\n",
       "</div>"
      ],
      "text/plain": [
       "                     company_permalink  \\\n",
       "0                  /organization/-fame   \n",
       "1               /ORGANIZATION/-QOUNTER   \n",
       "2               /organization/-qounter   \n",
       "3  /ORGANIZATION/-THE-ONE-OF-THEM-INC-   \n",
       "4                /organization/0-6-com   \n",
       "\n",
       "                           funding_round_permalink funding_round_type  \\\n",
       "0  /funding-round/9a01d05418af9f794eebff7ace91f638            venture   \n",
       "1  /funding-round/22dacff496eb7acb2b901dec1dfe5633            venture   \n",
       "2  /funding-round/b44fbb94153f6cdef13083530bb48030               seed   \n",
       "3  /funding-round/650b8f704416801069bb178a1418776b            venture   \n",
       "4  /funding-round/5727accaeaa57461bd22a9bdd945382d            venture   \n",
       "\n",
       "  funding_round_code   funded_at  raised_amount_usd  \n",
       "0                  B  05-01-2015        10000000.00  \n",
       "1                  A  14-10-2014                nan  \n",
       "2                NaN  01-03-2014          700000.00  \n",
       "3                  B  30-01-2014         3406878.00  \n",
       "4                  A  19-03-2008         2000000.00  "
      ]
     },
     "execution_count": 423,
     "metadata": {},
     "output_type": "execute_result"
    }
   ],
   "source": [
    "# Loading rounds2 data into a dataframe\n",
    "rounds2 = pd.read_csv(roundsFilePath, encoding=\"palmos\",engine=\"python\",sep=\",\")\n",
    "rounds2.head()"
   ]
  },
  {
   "cell_type": "code",
   "execution_count": 424,
   "metadata": {},
   "outputs": [
    {
     "name": "stdout",
     "output_type": "stream",
     "text": [
      "<class 'pandas.core.frame.DataFrame'>\n",
      "RangeIndex: 66368 entries, 0 to 66367\n",
      "Data columns (total 10 columns):\n",
      " #   Column         Non-Null Count  Dtype \n",
      "---  ------         --------------  ----- \n",
      " 0   permalink      66368 non-null  object\n",
      " 1   name           66367 non-null  object\n",
      " 2   homepage_url   61310 non-null  object\n",
      " 3   category_list  63220 non-null  object\n",
      " 4   status         66368 non-null  object\n",
      " 5   country_code   59410 non-null  object\n",
      " 6   state_code     57821 non-null  object\n",
      " 7   region         58338 non-null  object\n",
      " 8   city           58340 non-null  object\n",
      " 9   founded_at     51147 non-null  object\n",
      "dtypes: object(10)\n",
      "memory usage: 5.1+ MB\n"
     ]
    }
   ],
   "source": [
    "# Sanity check  \n",
    "companies.info()"
   ]
  },
  {
   "cell_type": "code",
   "execution_count": 425,
   "metadata": {},
   "outputs": [
    {
     "name": "stdout",
     "output_type": "stream",
     "text": [
      "<class 'pandas.core.frame.DataFrame'>\n",
      "RangeIndex: 114949 entries, 0 to 114948\n",
      "Data columns (total 6 columns):\n",
      " #   Column                   Non-Null Count   Dtype  \n",
      "---  ------                   --------------   -----  \n",
      " 0   company_permalink        114949 non-null  object \n",
      " 1   funding_round_permalink  114949 non-null  object \n",
      " 2   funding_round_type       114949 non-null  object \n",
      " 3   funding_round_code       31140 non-null   object \n",
      " 4   funded_at                114949 non-null  object \n",
      " 5   raised_amount_usd        94959 non-null   float64\n",
      "dtypes: float64(1), object(5)\n",
      "memory usage: 5.3+ MB\n"
     ]
    }
   ],
   "source": [
    "# Sanity check  \n",
    "rounds2.info()"
   ]
  },
  {
   "cell_type": "markdown",
   "metadata": {},
   "source": [
    "- Total records in companies data = 66368\n",
    "- Total records in rounds2 data = 114949\n",
    "- There is not any null values present in both the company_permalink in rounds2 dataset and permalink in the companies dataset"
   ]
  },
  {
   "cell_type": "code",
   "execution_count": 426,
   "metadata": {},
   "outputs": [
    {
     "name": "stdout",
     "output_type": "stream",
     "text": [
      "In Companies data : permalink count \n",
      "Total:  66368 , Unique:  66368 , Unique count(in Lower case of columns):  66368\n"
     ]
    }
   ],
   "source": [
    "# Different count details of companies in companies data\n",
    "total_c = companies.permalink.count()\n",
    "unique_c = companies.permalink.nunique()\n",
    "unique_lower_c = companies.permalink.apply(lambda x: x.lower()).nunique()\n",
    "print(\"In Companies data : permalink count \")\n",
    "print(\"Total: \", total_c, \", Unique: \", unique_c,\", Unique count(in Lower case of columns): \",unique_lower_c)"
   ]
  },
  {
   "cell_type": "code",
   "execution_count": 427,
   "metadata": {},
   "outputs": [
    {
     "name": "stdout",
     "output_type": "stream",
     "text": [
      "In rounds2 data : company_permalink count \n",
      "Total:  114949 , Unique:  90247 , Unique count(in Lower case of columns):  66368\n"
     ]
    }
   ],
   "source": [
    "# Different count details of companies in rounds2 data\n",
    "total_r = rounds2.company_permalink.count()\n",
    "unique_r = rounds2.company_permalink.nunique()\n",
    "unique_lower_r = rounds2.company_permalink.apply(lambda x: x.lower()).nunique()\n",
    "\n",
    "print(\"In rounds2 data : company_permalink count \")\n",
    "print(\"Total: \", total_r, \", Unique: \", unique_r,\", Unique count(in Lower case of columns): \",unique_lower_r)"
   ]
  },
  {
   "cell_type": "code",
   "execution_count": 428,
   "metadata": {},
   "outputs": [],
   "source": [
    "# Conversion into same letter case before applying join \n",
    "companies.permalink=companies.permalink.apply(lambda x: x.lower())\n",
    "rounds2.company_permalink=rounds2.company_permalink.apply(lambda x: x.lower())"
   ]
  },
  {
   "cell_type": "code",
   "execution_count": 429,
   "metadata": {},
   "outputs": [
    {
     "data": {
      "text/html": [
       "<div>\n",
       "<style scoped>\n",
       "    .dataframe tbody tr th:only-of-type {\n",
       "        vertical-align: middle;\n",
       "    }\n",
       "\n",
       "    .dataframe tbody tr th {\n",
       "        vertical-align: top;\n",
       "    }\n",
       "\n",
       "    .dataframe thead th {\n",
       "        text-align: right;\n",
       "    }\n",
       "</style>\n",
       "<table border=\"1\" class=\"dataframe\">\n",
       "  <thead>\n",
       "    <tr style=\"text-align: right;\">\n",
       "      <th></th>\n",
       "      <th>permalink</th>\n",
       "      <th>name</th>\n",
       "      <th>homepage_url</th>\n",
       "      <th>category_list</th>\n",
       "      <th>status</th>\n",
       "      <th>country_code</th>\n",
       "      <th>state_code</th>\n",
       "      <th>region</th>\n",
       "      <th>city</th>\n",
       "      <th>founded_at</th>\n",
       "      <th>funding_round_permalink</th>\n",
       "      <th>funding_round_type</th>\n",
       "      <th>funding_round_code</th>\n",
       "      <th>funded_at</th>\n",
       "      <th>raised_amount_usd</th>\n",
       "    </tr>\n",
       "  </thead>\n",
       "  <tbody>\n",
       "  </tbody>\n",
       "</table>\n",
       "</div>"
      ],
      "text/plain": [
       "Empty DataFrame\n",
       "Columns: [permalink, name, homepage_url, category_list, status, country_code, state_code, region, city, founded_at, funding_round_permalink, funding_round_type, funding_round_code, funded_at, raised_amount_usd]\n",
       "Index: []"
      ]
     },
     "execution_count": 429,
     "metadata": {},
     "output_type": "execute_result"
    }
   ],
   "source": [
    "# Check - Unmatched companies while joining rounds2 and companies data\n",
    "df = pd.merge(companies, rounds2, left_on=[\"permalink\"], right_on=[\"company_permalink\"], how=\"left\")\n",
    "df[df['company_permalink'].isna()].drop('company_permalink', axis=1)"
   ]
  },
  {
   "cell_type": "markdown",
   "metadata": {},
   "source": [
    "i.e none of the unmatched companies is found while joining rounds2 and companies data"
   ]
  },
  {
   "cell_type": "markdown",
   "metadata": {},
   "source": [
    "### Master Data frame creation"
   ]
  },
  {
   "cell_type": "code",
   "execution_count": 430,
   "metadata": {},
   "outputs": [
    {
     "name": "stdout",
     "output_type": "stream",
     "text": [
      "<class 'pandas.core.frame.DataFrame'>\n",
      "Int64Index: 114949 entries, 0 to 114948\n",
      "Data columns (total 16 columns):\n",
      " #   Column                   Non-Null Count   Dtype  \n",
      "---  ------                   --------------   -----  \n",
      " 0   company_permalink        114949 non-null  object \n",
      " 1   funding_round_permalink  114949 non-null  object \n",
      " 2   funding_round_type       114949 non-null  object \n",
      " 3   funding_round_code       31140 non-null   object \n",
      " 4   funded_at                114949 non-null  object \n",
      " 5   raised_amount_usd        94959 non-null   float64\n",
      " 6   permalink                114949 non-null  object \n",
      " 7   name                     114948 non-null  object \n",
      " 8   homepage_url             108815 non-null  object \n",
      " 9   category_list            111539 non-null  object \n",
      " 10  status                   114949 non-null  object \n",
      " 11  country_code             106271 non-null  object \n",
      " 12  state_code               104003 non-null  object \n",
      " 13  region                   104782 non-null  object \n",
      " 14  city                     104785 non-null  object \n",
      " 15  founded_at               94428 non-null   object \n",
      "dtypes: float64(1), object(15)\n",
      "memory usage: 14.9+ MB\n"
     ]
    }
   ],
   "source": [
    "# Master frame creation - by joining rounds2 df and comapnies df \n",
    "master_frame = pd.merge(rounds2,companies, left_on=[\"company_permalink\"], right_on=[\"permalink\"], how=\"inner\")\n",
    "master_frame.info()"
   ]
  },
  {
   "cell_type": "code",
   "execution_count": 431,
   "metadata": {},
   "outputs": [
    {
     "data": {
      "text/html": [
       "<div>\n",
       "<style scoped>\n",
       "    .dataframe tbody tr th:only-of-type {\n",
       "        vertical-align: middle;\n",
       "    }\n",
       "\n",
       "    .dataframe tbody tr th {\n",
       "        vertical-align: top;\n",
       "    }\n",
       "\n",
       "    .dataframe thead th {\n",
       "        text-align: right;\n",
       "    }\n",
       "</style>\n",
       "<table border=\"1\" class=\"dataframe\">\n",
       "  <thead>\n",
       "    <tr style=\"text-align: right;\">\n",
       "      <th></th>\n",
       "      <th>company_permalink</th>\n",
       "      <th>funding_round_permalink</th>\n",
       "      <th>funding_round_type</th>\n",
       "      <th>funding_round_code</th>\n",
       "      <th>funded_at</th>\n",
       "      <th>raised_amount_usd</th>\n",
       "      <th>permalink</th>\n",
       "      <th>name</th>\n",
       "      <th>homepage_url</th>\n",
       "      <th>category_list</th>\n",
       "      <th>status</th>\n",
       "      <th>country_code</th>\n",
       "      <th>state_code</th>\n",
       "      <th>region</th>\n",
       "      <th>city</th>\n",
       "      <th>founded_at</th>\n",
       "    </tr>\n",
       "  </thead>\n",
       "  <tbody>\n",
       "    <tr>\n",
       "      <th>0</th>\n",
       "      <td>/organization/-fame</td>\n",
       "      <td>/funding-round/9a01d05418af9f794eebff7ace91f638</td>\n",
       "      <td>venture</td>\n",
       "      <td>B</td>\n",
       "      <td>05-01-2015</td>\n",
       "      <td>10000000.00</td>\n",
       "      <td>/organization/-fame</td>\n",
       "      <td>#fame</td>\n",
       "      <td>http://livfame.com</td>\n",
       "      <td>Media</td>\n",
       "      <td>operating</td>\n",
       "      <td>IND</td>\n",
       "      <td>16</td>\n",
       "      <td>Mumbai</td>\n",
       "      <td>Mumbai</td>\n",
       "      <td>NaN</td>\n",
       "    </tr>\n",
       "    <tr>\n",
       "      <th>1</th>\n",
       "      <td>/organization/-qounter</td>\n",
       "      <td>/funding-round/22dacff496eb7acb2b901dec1dfe5633</td>\n",
       "      <td>venture</td>\n",
       "      <td>A</td>\n",
       "      <td>14-10-2014</td>\n",
       "      <td>nan</td>\n",
       "      <td>/organization/-qounter</td>\n",
       "      <td>:Qounter</td>\n",
       "      <td>http://www.qounter.com</td>\n",
       "      <td>Application Platforms|Real Time|Social Network...</td>\n",
       "      <td>operating</td>\n",
       "      <td>USA</td>\n",
       "      <td>DE</td>\n",
       "      <td>DE - Other</td>\n",
       "      <td>Delaware City</td>\n",
       "      <td>04-09-2014</td>\n",
       "    </tr>\n",
       "    <tr>\n",
       "      <th>2</th>\n",
       "      <td>/organization/-qounter</td>\n",
       "      <td>/funding-round/b44fbb94153f6cdef13083530bb48030</td>\n",
       "      <td>seed</td>\n",
       "      <td>NaN</td>\n",
       "      <td>01-03-2014</td>\n",
       "      <td>700000.00</td>\n",
       "      <td>/organization/-qounter</td>\n",
       "      <td>:Qounter</td>\n",
       "      <td>http://www.qounter.com</td>\n",
       "      <td>Application Platforms|Real Time|Social Network...</td>\n",
       "      <td>operating</td>\n",
       "      <td>USA</td>\n",
       "      <td>DE</td>\n",
       "      <td>DE - Other</td>\n",
       "      <td>Delaware City</td>\n",
       "      <td>04-09-2014</td>\n",
       "    </tr>\n",
       "    <tr>\n",
       "      <th>3</th>\n",
       "      <td>/organization/-the-one-of-them-inc-</td>\n",
       "      <td>/funding-round/650b8f704416801069bb178a1418776b</td>\n",
       "      <td>venture</td>\n",
       "      <td>B</td>\n",
       "      <td>30-01-2014</td>\n",
       "      <td>3406878.00</td>\n",
       "      <td>/organization/-the-one-of-them-inc-</td>\n",
       "      <td>(THE) ONE of THEM,Inc.</td>\n",
       "      <td>http://oneofthem.jp</td>\n",
       "      <td>Apps|Games|Mobile</td>\n",
       "      <td>operating</td>\n",
       "      <td>NaN</td>\n",
       "      <td>NaN</td>\n",
       "      <td>NaN</td>\n",
       "      <td>NaN</td>\n",
       "      <td>NaN</td>\n",
       "    </tr>\n",
       "    <tr>\n",
       "      <th>4</th>\n",
       "      <td>/organization/0-6-com</td>\n",
       "      <td>/funding-round/5727accaeaa57461bd22a9bdd945382d</td>\n",
       "      <td>venture</td>\n",
       "      <td>A</td>\n",
       "      <td>19-03-2008</td>\n",
       "      <td>2000000.00</td>\n",
       "      <td>/organization/0-6-com</td>\n",
       "      <td>0-6.com</td>\n",
       "      <td>http://www.0-6.com</td>\n",
       "      <td>Curated Web</td>\n",
       "      <td>operating</td>\n",
       "      <td>CHN</td>\n",
       "      <td>22</td>\n",
       "      <td>Beijing</td>\n",
       "      <td>Beijing</td>\n",
       "      <td>01-01-2007</td>\n",
       "    </tr>\n",
       "  </tbody>\n",
       "</table>\n",
       "</div>"
      ],
      "text/plain": [
       "                     company_permalink  \\\n",
       "0                  /organization/-fame   \n",
       "1               /organization/-qounter   \n",
       "2               /organization/-qounter   \n",
       "3  /organization/-the-one-of-them-inc-   \n",
       "4                /organization/0-6-com   \n",
       "\n",
       "                           funding_round_permalink funding_round_type  \\\n",
       "0  /funding-round/9a01d05418af9f794eebff7ace91f638            venture   \n",
       "1  /funding-round/22dacff496eb7acb2b901dec1dfe5633            venture   \n",
       "2  /funding-round/b44fbb94153f6cdef13083530bb48030               seed   \n",
       "3  /funding-round/650b8f704416801069bb178a1418776b            venture   \n",
       "4  /funding-round/5727accaeaa57461bd22a9bdd945382d            venture   \n",
       "\n",
       "  funding_round_code   funded_at  raised_amount_usd  \\\n",
       "0                  B  05-01-2015        10000000.00   \n",
       "1                  A  14-10-2014                nan   \n",
       "2                NaN  01-03-2014          700000.00   \n",
       "3                  B  30-01-2014         3406878.00   \n",
       "4                  A  19-03-2008         2000000.00   \n",
       "\n",
       "                             permalink                    name  \\\n",
       "0                  /organization/-fame                   #fame   \n",
       "1               /organization/-qounter                :Qounter   \n",
       "2               /organization/-qounter                :Qounter   \n",
       "3  /organization/-the-one-of-them-inc-  (THE) ONE of THEM,Inc.   \n",
       "4                /organization/0-6-com                 0-6.com   \n",
       "\n",
       "             homepage_url                                      category_list  \\\n",
       "0      http://livfame.com                                              Media   \n",
       "1  http://www.qounter.com  Application Platforms|Real Time|Social Network...   \n",
       "2  http://www.qounter.com  Application Platforms|Real Time|Social Network...   \n",
       "3     http://oneofthem.jp                                  Apps|Games|Mobile   \n",
       "4      http://www.0-6.com                                        Curated Web   \n",
       "\n",
       "      status country_code state_code      region           city  founded_at  \n",
       "0  operating          IND         16      Mumbai         Mumbai         NaN  \n",
       "1  operating          USA         DE  DE - Other  Delaware City  04-09-2014  \n",
       "2  operating          USA         DE  DE - Other  Delaware City  04-09-2014  \n",
       "3  operating          NaN        NaN         NaN            NaN         NaN  \n",
       "4  operating          CHN         22     Beijing        Beijing  01-01-2007  "
      ]
     },
     "execution_count": 431,
     "metadata": {},
     "output_type": "execute_result"
    }
   ],
   "source": [
    "master_frame.head()"
   ]
  },
  {
   "cell_type": "code",
   "execution_count": 432,
   "metadata": {},
   "outputs": [],
   "source": [
    "# Remove unnecessary column from the master frame\n",
    "master_frame = master_frame.drop(axis=1, columns=[\"funding_round_permalink\",\"funding_round_code\",\"permalink\", \"homepage_url\", \"state_code\",\"region\", \"city\", \"founded_at\"])"
   ]
  },
  {
   "cell_type": "code",
   "execution_count": 433,
   "metadata": {},
   "outputs": [
    {
     "name": "stdout",
     "output_type": "stream",
     "text": [
      "<class 'pandas.core.frame.DataFrame'>\n",
      "Int64Index: 114949 entries, 0 to 114948\n",
      "Data columns (total 8 columns):\n",
      " #   Column              Non-Null Count   Dtype  \n",
      "---  ------              --------------   -----  \n",
      " 0   company_permalink   114949 non-null  object \n",
      " 1   funding_round_type  114949 non-null  object \n",
      " 2   funded_at           114949 non-null  object \n",
      " 3   raised_amount_usd   94959 non-null   float64\n",
      " 4   name                114948 non-null  object \n",
      " 5   category_list       111539 non-null  object \n",
      " 6   status              114949 non-null  object \n",
      " 7   country_code        106271 non-null  object \n",
      "dtypes: float64(1), object(7)\n",
      "memory usage: 7.9+ MB\n"
     ]
    }
   ],
   "source": [
    "master_frame.info()"
   ]
  },
  {
   "cell_type": "code",
   "execution_count": 434,
   "metadata": {},
   "outputs": [
    {
     "data": {
      "text/plain": [
       "(114949, 8)"
      ]
     },
     "execution_count": 434,
     "metadata": {},
     "output_type": "execute_result"
    }
   ],
   "source": [
    "master_frame.shape"
   ]
  },
  {
   "cell_type": "markdown",
   "metadata": {},
   "source": [
    "# 2. Fund Analysis\n",
    "- Here we are trying to find out most suitable fund type for the investment "
   ]
  },
  {
   "cell_type": "code",
   "execution_count": 435,
   "metadata": {},
   "outputs": [],
   "source": [
    "# Filter on funding type except four funding(venture, angel, seed, and private equity) \n",
    "master_frame = master_frame.loc[(master_frame['funding_round_type']=='venture') | (master_frame['funding_round_type']=='angel')|(master_frame['funding_round_type']=='seed') |(master_frame['funding_round_type']=='private_equity')]"
   ]
  },
  {
   "cell_type": "code",
   "execution_count": 436,
   "metadata": {},
   "outputs": [
    {
     "data": {
      "text/plain": [
       "(94397, 8)"
      ]
     },
     "execution_count": 436,
     "metadata": {},
     "output_type": "execute_result"
    }
   ],
   "source": [
    "master_frame.shape"
   ]
  },
  {
   "cell_type": "code",
   "execution_count": 437,
   "metadata": {},
   "outputs": [
    {
     "data": {
      "text/plain": [
       "<AxesSubplot:>"
      ]
     },
     "execution_count": 437,
     "metadata": {},
     "output_type": "execute_result"
    },
    {
     "data": {
      "image/png": "[encoded data removed]",
      "text/plain": [
       "<Figure size 432x288 with 1 Axes>"
      ]
     },
     "metadata": {},
     "output_type": "display_data"
    }
   ],
   "source": [
    "#Sanity check\n",
    "master_frame.funding_round_type.value_counts().plot.bar(x=\"funding_round_type\") "
   ]
  },
  {
   "cell_type": "code",
   "execution_count": 438,
   "metadata": {},
   "outputs": [
    {
     "name": "stdout",
     "output_type": "stream",
     "text": [
      "Total % of Null count in raised_amount_usd :  17.08 %\n"
     ]
    }
   ],
   "source": [
    "#Data checks - null in raised amount\n",
    "total_null = round(100*(master_frame.raised_amount_usd.isnull().sum()/master_frame.raised_amount_usd.count()),2)\n",
    "print(\"Total % of Null count in raised_amount_usd : \", total_null,\"%\")"
   ]
  },
  {
   "cell_type": "code",
   "execution_count": 439,
   "metadata": {},
   "outputs": [
    {
     "name": "stdout",
     "output_type": "stream",
     "text": [
      "% of Null count in : \n",
      "venture :  10.48 % \n",
      "angel :  25.39 % \n",
      "seed :  29.32 % \n",
      "private_equity :  18.03 %\n"
     ]
    }
   ],
   "source": [
    "# % null count in investment amount all the funds\n",
    "v_null=round(100*(master_frame[master_frame.funding_round_type=='venture'].raised_amount_usd.isnull().sum()/master_frame[master_frame.funding_round_type=='venture'].raised_amount_usd.count()),2)\n",
    "a_null=round(100*(master_frame[master_frame.funding_round_type=='angel'].raised_amount_usd.isnull().sum()/master_frame[master_frame.funding_round_type=='angel'].raised_amount_usd.count()),2)\n",
    "s_null=round(100*(master_frame[master_frame.funding_round_type=='seed'].raised_amount_usd.isnull().sum()/master_frame[master_frame.funding_round_type=='seed'].raised_amount_usd.count()),2)\n",
    "p_null=round(100*(master_frame[master_frame.funding_round_type=='private_equity'].raised_amount_usd.isnull().sum()/master_frame[master_frame.funding_round_type=='private_equity'].raised_amount_usd.count()),2)\n",
    "print(\"% of Null count in : \")\n",
    "print(\"venture : \",v_null, \"%\", \"\\nangel : \", a_null,\"%\", \"\\nseed : \", s_null,\"%\", \"\\nprivate_equity : \", p_null,\"%\")"
   ]
  },
  {
   "cell_type": "markdown",
   "metadata": {},
   "source": [
    "So, there are lots of null values present in the investment amount field, we should try to fill it by the representative value of investment amount fo the further analysis. Next, we will try to find out the representative value."
   ]
  },
  {
   "cell_type": "code",
   "execution_count": 440,
   "metadata": {},
   "outputs": [],
   "source": [
    "# To display the amount in proper format\n",
    "pd.set_option('display.float_format', '{:.2f}'.format)"
   ]
  },
  {
   "cell_type": "code",
   "execution_count": 441,
   "metadata": {},
   "outputs": [
    {
     "data": {
      "text/plain": [
       "count         80627.00\n",
       "mean        9347994.74\n",
       "std        75629397.45\n",
       "min               0.00\n",
       "25%          400000.00\n",
       "50%         2000000.00\n",
       "75%         7975495.50\n",
       "max     17600000000.00\n",
       "Name: raised_amount_usd, dtype: float64"
      ]
     },
     "execution_count": 441,
     "metadata": {},
     "output_type": "execute_result"
    }
   ],
   "source": [
    "# Raised amount columns analysis\n",
    "master_frame.raised_amount_usd.describe()"
   ]
  },
  {
   "cell_type": "code",
   "execution_count": 442,
   "metadata": {},
   "outputs": [
    {
     "data": {
      "text/html": [
       "<div>\n",
       "<style scoped>\n",
       "    .dataframe tbody tr th:only-of-type {\n",
       "        vertical-align: middle;\n",
       "    }\n",
       "\n",
       "    .dataframe tbody tr th {\n",
       "        vertical-align: top;\n",
       "    }\n",
       "\n",
       "    .dataframe thead tr th {\n",
       "        text-align: left;\n",
       "    }\n",
       "\n",
       "    .dataframe thead tr:last-of-type th {\n",
       "        text-align: right;\n",
       "    }\n",
       "</style>\n",
       "<table border=\"1\" class=\"dataframe\">\n",
       "  <thead>\n",
       "    <tr>\n",
       "      <th></th>\n",
       "      <th colspan=\"8\" halign=\"left\">raised_amount_usd</th>\n",
       "    </tr>\n",
       "    <tr>\n",
       "      <th></th>\n",
       "      <th>count</th>\n",
       "      <th>mean</th>\n",
       "      <th>std</th>\n",
       "      <th>min</th>\n",
       "      <th>25%</th>\n",
       "      <th>50%</th>\n",
       "      <th>75%</th>\n",
       "      <th>max</th>\n",
       "    </tr>\n",
       "    <tr>\n",
       "      <th>funding_round_type</th>\n",
       "      <th></th>\n",
       "      <th></th>\n",
       "      <th></th>\n",
       "      <th></th>\n",
       "      <th></th>\n",
       "      <th></th>\n",
       "      <th></th>\n",
       "      <th></th>\n",
       "    </tr>\n",
       "  </thead>\n",
       "  <tbody>\n",
       "    <tr>\n",
       "      <th>angel</th>\n",
       "      <td>4860.00</td>\n",
       "      <td>958694.47</td>\n",
       "      <td>7404397.12</td>\n",
       "      <td>0.00</td>\n",
       "      <td>150000.00</td>\n",
       "      <td>400000.00</td>\n",
       "      <td>1000000.00</td>\n",
       "      <td>494511992.00</td>\n",
       "    </tr>\n",
       "    <tr>\n",
       "      <th>private_equity</th>\n",
       "      <td>1936.00</td>\n",
       "      <td>73308593.03</td>\n",
       "      <td>198113458.41</td>\n",
       "      <td>0.00</td>\n",
       "      <td>5000000.00</td>\n",
       "      <td>20000000.00</td>\n",
       "      <td>75000000.00</td>\n",
       "      <td>4745460219.00</td>\n",
       "    </tr>\n",
       "    <tr>\n",
       "      <th>seed</th>\n",
       "      <td>23603.00</td>\n",
       "      <td>719818.00</td>\n",
       "      <td>2221732.80</td>\n",
       "      <td>0.00</td>\n",
       "      <td>55000.00</td>\n",
       "      <td>275000.00</td>\n",
       "      <td>1000000.00</td>\n",
       "      <td>200000000.00</td>\n",
       "    </tr>\n",
       "    <tr>\n",
       "      <th>venture</th>\n",
       "      <td>50228.00</td>\n",
       "      <td>11748949.13</td>\n",
       "      <td>86352066.56</td>\n",
       "      <td>0.00</td>\n",
       "      <td>1600901.75</td>\n",
       "      <td>5000000.00</td>\n",
       "      <td>12000000.00</td>\n",
       "      <td>17600000000.00</td>\n",
       "    </tr>\n",
       "  </tbody>\n",
       "</table>\n",
       "</div>"
      ],
      "text/plain": [
       "                   raised_amount_usd                                           \\\n",
       "                               count        mean          std  min        25%   \n",
       "funding_round_type                                                              \n",
       "angel                        4860.00   958694.47   7404397.12 0.00  150000.00   \n",
       "private_equity               1936.00 73308593.03 198113458.41 0.00 5000000.00   \n",
       "seed                        23603.00   719818.00   2221732.80 0.00   55000.00   \n",
       "venture                     50228.00 11748949.13  86352066.56 0.00 1600901.75   \n",
       "\n",
       "                                                           \n",
       "                           50%         75%            max  \n",
       "funding_round_type                                         \n",
       "angel                400000.00  1000000.00   494511992.00  \n",
       "private_equity     20000000.00 75000000.00  4745460219.00  \n",
       "seed                 275000.00  1000000.00   200000000.00  \n",
       "venture             5000000.00 12000000.00 17600000000.00  "
      ]
     },
     "execution_count": 442,
     "metadata": {},
     "output_type": "execute_result"
    }
   ],
   "source": [
    "# With null - analyzing the all the inevstment amount across al the four funds\n",
    "master_frame.groupby([\"funding_round_type\"]).describe()"
   ]
  },
  {
   "cell_type": "code",
   "execution_count": 443,
   "metadata": {},
   "outputs": [
    {
     "data": {
      "image/png": "[encoded data removed]",
      "text/plain": [
       "<Figure size 432x288 with 1 Axes>"
      ]
     },
     "metadata": {},
     "output_type": "display_data"
    }
   ],
   "source": [
    "# Visualize the same using box plot - all the inevstment amount across al the four funds\n",
    "sns.boxplot(x=\"funding_round_type\",y=\"raised_amount_usd\", data=master_frame)\n",
    "plt.yscale(\"log\")\n",
    "plt.show()"
   ]
  },
  {
   "cell_type": "markdown",
   "metadata": {},
   "source": [
    "##### Statistics of all four funds(Angel, Seed, Venture, Private equity)\n",
    "- Mean : 9.3 million USD\n",
    "- Median : 2 million USD\n",
    "- Max : 17600 million USD\n",
    "\n",
    "***It is affected by Outliers*** : We can choose **MEDIAN** as representative amount overall. For more clarification we can visulalize the below box plot."
   ]
  },
  {
   "cell_type": "code",
   "execution_count": 444,
   "metadata": {},
   "outputs": [
    {
     "name": "stdout",
     "output_type": "stream",
     "text": [
      "Median :  2000000.0\n"
     ]
    }
   ],
   "source": [
    "# Representative value\n",
    "median = master_frame.raised_amount_usd.median()\n",
    "print(\"Median : \",median)"
   ]
  },
  {
   "cell_type": "code",
   "execution_count": 445,
   "metadata": {},
   "outputs": [],
   "source": [
    "# Fill the median value in all null values of investment amt and see the result \n",
    "master_frame.raised_amount_usd = master_frame.raised_amount_usd.fillna(median)"
   ]
  },
  {
   "cell_type": "code",
   "execution_count": 446,
   "metadata": {},
   "outputs": [
    {
     "data": {
      "text/plain": [
       "0"
      ]
     },
     "execution_count": 446,
     "metadata": {},
     "output_type": "execute_result"
    }
   ],
   "source": [
    "# Sanity check\n",
    "master_frame.raised_amount_usd.isnull().sum()"
   ]
  },
  {
   "cell_type": "code",
   "execution_count": 447,
   "metadata": {},
   "outputs": [
    {
     "data": {
      "text/plain": [
       "(94397, 8)"
      ]
     },
     "execution_count": 447,
     "metadata": {},
     "output_type": "execute_result"
    }
   ],
   "source": [
    "master_frame.shape"
   ]
  },
  {
   "cell_type": "code",
   "execution_count": 448,
   "metadata": {},
   "outputs": [
    {
     "data": {
      "text/plain": [
       "count         94397.00\n",
       "mean        8276118.65\n",
       "std        69943958.90\n",
       "min               0.00\n",
       "25%          530000.00\n",
       "50%         2000000.00\n",
       "75%         6000000.00\n",
       "max     17600000000.00\n",
       "Name: raised_amount_usd, dtype: float64"
      ]
     },
     "execution_count": 448,
     "metadata": {},
     "output_type": "execute_result"
    }
   ],
   "source": [
    "master_frame.raised_amount_usd.describe()"
   ]
  },
  {
   "cell_type": "code",
   "execution_count": 449,
   "metadata": {},
   "outputs": [
    {
     "data": {
      "image/png": "[encoded data removed]",
      "text/plain": [
       "<Figure size 432x288 with 1 Axes>"
      ]
     },
     "metadata": {},
     "output_type": "display_data"
    }
   ],
   "source": [
    "# Visualize the investment and amount using box plot - all the inevstment amount across al the four funds\n",
    "sns.boxplot(x=\"funding_round_type\",y=\"raised_amount_usd\", data=master_frame)\n",
    "plt.yscale(\"log\")\n",
    "plt.show()"
   ]
  },
  {
   "cell_type": "code",
   "execution_count": 450,
   "metadata": {},
   "outputs": [
    {
     "data": {
      "text/html": [
       "<div>\n",
       "<style scoped>\n",
       "    .dataframe tbody tr th:only-of-type {\n",
       "        vertical-align: middle;\n",
       "    }\n",
       "\n",
       "    .dataframe tbody tr th {\n",
       "        vertical-align: top;\n",
       "    }\n",
       "\n",
       "    .dataframe thead th {\n",
       "        text-align: right;\n",
       "    }\n",
       "</style>\n",
       "<table border=\"1\" class=\"dataframe\">\n",
       "  <thead>\n",
       "    <tr style=\"text-align: right;\">\n",
       "      <th></th>\n",
       "      <th>funding_round_type</th>\n",
       "      <th>raised_amount_usd</th>\n",
       "    </tr>\n",
       "  </thead>\n",
       "  <tbody>\n",
       "    <tr>\n",
       "      <th>0</th>\n",
       "      <td>angel</td>\n",
       "      <td>600000.00</td>\n",
       "    </tr>\n",
       "    <tr>\n",
       "      <th>1</th>\n",
       "      <td>private_equity</td>\n",
       "      <td>12122011.00</td>\n",
       "    </tr>\n",
       "    <tr>\n",
       "      <th>2</th>\n",
       "      <td>seed</td>\n",
       "      <td>575000.00</td>\n",
       "    </tr>\n",
       "    <tr>\n",
       "      <th>3</th>\n",
       "      <td>venture</td>\n",
       "      <td>4000000.00</td>\n",
       "    </tr>\n",
       "  </tbody>\n",
       "</table>\n",
       "</div>"
      ],
      "text/plain": [
       "  funding_round_type  raised_amount_usd\n",
       "0              angel          600000.00\n",
       "1     private_equity        12122011.00\n",
       "2               seed          575000.00\n",
       "3            venture         4000000.00"
      ]
     },
     "execution_count": 450,
     "metadata": {},
     "output_type": "execute_result"
    }
   ],
   "source": [
    "# Median accross all four funds\n",
    "median_df = master_frame.groupby([\"funding_round_type\"]).median().reset_index()\n",
    "median_df"
   ]
  },
  {
   "cell_type": "code",
   "execution_count": 451,
   "metadata": {},
   "outputs": [],
   "source": [
    "# Sum of each fund type in million USD\n",
    "fundtype_master_frame = master_frame.groupby([\"funding_round_type\"]).sum('raised_amount_usd').apply(lambda x: round(x/1000000,2)).sort_values('raised_amount_usd').reset_index()"
   ]
  },
  {
   "cell_type": "code",
   "execution_count": 452,
   "metadata": {},
   "outputs": [
    {
     "data": {
      "text/html": [
       "<div>\n",
       "<style scoped>\n",
       "    .dataframe tbody tr th:only-of-type {\n",
       "        vertical-align: middle;\n",
       "    }\n",
       "\n",
       "    .dataframe tbody tr th {\n",
       "        vertical-align: top;\n",
       "    }\n",
       "\n",
       "    .dataframe thead th {\n",
       "        text-align: right;\n",
       "    }\n",
       "</style>\n",
       "<table border=\"1\" class=\"dataframe\">\n",
       "  <thead>\n",
       "    <tr style=\"text-align: right;\">\n",
       "      <th></th>\n",
       "      <th>funding_round_type</th>\n",
       "      <th>raised_amount_usd</th>\n",
       "    </tr>\n",
       "  </thead>\n",
       "  <tbody>\n",
       "    <tr>\n",
       "      <th>0</th>\n",
       "      <td>angel</td>\n",
       "      <td>7127.26</td>\n",
       "    </tr>\n",
       "    <tr>\n",
       "      <th>1</th>\n",
       "      <td>seed</td>\n",
       "      <td>30831.86</td>\n",
       "    </tr>\n",
       "    <tr>\n",
       "      <th>2</th>\n",
       "      <td>private_equity</td>\n",
       "      <td>142623.44</td>\n",
       "    </tr>\n",
       "    <tr>\n",
       "      <th>3</th>\n",
       "      <td>venture</td>\n",
       "      <td>600658.22</td>\n",
       "    </tr>\n",
       "  </tbody>\n",
       "</table>\n",
       "</div>"
      ],
      "text/plain": [
       "  funding_round_type  raised_amount_usd\n",
       "0              angel            7127.26\n",
       "1               seed           30831.86\n",
       "2     private_equity          142623.44\n",
       "3            venture          600658.22"
      ]
     },
     "execution_count": 452,
     "metadata": {},
     "output_type": "execute_result"
    }
   ],
   "source": [
    "fundtype_master_frame"
   ]
  },
  {
   "cell_type": "code",
   "execution_count": 453,
   "metadata": {},
   "outputs": [
    {
     "data": {
      "image/png": "[encoded data removed]",
      "text/plain": [
       "<Figure size 360x360 with 1 Axes>"
      ]
     },
     "metadata": {},
     "output_type": "display_data"
    }
   ],
   "source": [
    "# Plotting the sum of investment against all the four funds\n",
    "sns.set_theme(style=\"ticks\", color_codes=True)\n",
    "sns.catplot(x=\"funding_round_type\", y=\"raised_amount_usd\", kind=\"bar\", data=fundtype_master_frame)\n",
    "plt.yscale(\"log\")\n",
    "plt.show()"
   ]
  },
  {
   "cell_type": "markdown",
   "metadata": {},
   "source": [
    "***i.e most of the investements are happening in VENTURE funds***"
   ]
  },
  {
   "cell_type": "code",
   "execution_count": 454,
   "metadata": {},
   "outputs": [
    {
     "data": {
      "text/html": [
       "<div>\n",
       "<style scoped>\n",
       "    .dataframe tbody tr th:only-of-type {\n",
       "        vertical-align: middle;\n",
       "    }\n",
       "\n",
       "    .dataframe tbody tr th {\n",
       "        vertical-align: top;\n",
       "    }\n",
       "\n",
       "    .dataframe thead tr th {\n",
       "        text-align: left;\n",
       "    }\n",
       "\n",
       "    .dataframe thead tr:last-of-type th {\n",
       "        text-align: right;\n",
       "    }\n",
       "</style>\n",
       "<table border=\"1\" class=\"dataframe\">\n",
       "  <thead>\n",
       "    <tr>\n",
       "      <th></th>\n",
       "      <th colspan=\"8\" halign=\"left\">raised_amount_usd</th>\n",
       "    </tr>\n",
       "    <tr>\n",
       "      <th></th>\n",
       "      <th>count</th>\n",
       "      <th>mean</th>\n",
       "      <th>std</th>\n",
       "      <th>min</th>\n",
       "      <th>25%</th>\n",
       "      <th>50%</th>\n",
       "      <th>75%</th>\n",
       "      <th>max</th>\n",
       "    </tr>\n",
       "    <tr>\n",
       "      <th>funding_round_type</th>\n",
       "      <th></th>\n",
       "      <th></th>\n",
       "      <th></th>\n",
       "      <th></th>\n",
       "      <th></th>\n",
       "      <th></th>\n",
       "      <th></th>\n",
       "      <th></th>\n",
       "    </tr>\n",
       "  </thead>\n",
       "  <tbody>\n",
       "    <tr>\n",
       "      <th>angel</th>\n",
       "      <td>6094.00</td>\n",
       "      <td>1169552.86</td>\n",
       "      <td>6625454.17</td>\n",
       "      <td>0.00</td>\n",
       "      <td>200000.00</td>\n",
       "      <td>600000.00</td>\n",
       "      <td>2000000.00</td>\n",
       "      <td>494511992.00</td>\n",
       "    </tr>\n",
       "    <tr>\n",
       "      <th>private_equity</th>\n",
       "      <td>2285.00</td>\n",
       "      <td>62417258.69</td>\n",
       "      <td>184146501.97</td>\n",
       "      <td>0.00</td>\n",
       "      <td>2000000.00</td>\n",
       "      <td>12122011.00</td>\n",
       "      <td>62400000.00</td>\n",
       "      <td>4745460219.00</td>\n",
       "    </tr>\n",
       "    <tr>\n",
       "      <th>seed</th>\n",
       "      <td>30524.00</td>\n",
       "      <td>1010085.97</td>\n",
       "      <td>2025882.79</td>\n",
       "      <td>0.00</td>\n",
       "      <td>100000.00</td>\n",
       "      <td>575000.00</td>\n",
       "      <td>2000000.00</td>\n",
       "      <td>200000000.00</td>\n",
       "    </tr>\n",
       "    <tr>\n",
       "      <th>venture</th>\n",
       "      <td>55494.00</td>\n",
       "      <td>10823840.72</td>\n",
       "      <td>82202445.65</td>\n",
       "      <td>0.00</td>\n",
       "      <td>2000000.00</td>\n",
       "      <td>4000000.00</td>\n",
       "      <td>10500000.00</td>\n",
       "      <td>17600000000.00</td>\n",
       "    </tr>\n",
       "  </tbody>\n",
       "</table>\n",
       "</div>"
      ],
      "text/plain": [
       "                   raised_amount_usd                                           \\\n",
       "                               count        mean          std  min        25%   \n",
       "funding_round_type                                                              \n",
       "angel                        6094.00  1169552.86   6625454.17 0.00  200000.00   \n",
       "private_equity               2285.00 62417258.69 184146501.97 0.00 2000000.00   \n",
       "seed                        30524.00  1010085.97   2025882.79 0.00  100000.00   \n",
       "venture                     55494.00 10823840.72  82202445.65 0.00 2000000.00   \n",
       "\n",
       "                                                           \n",
       "                           50%         75%            max  \n",
       "funding_round_type                                         \n",
       "angel                600000.00  2000000.00   494511992.00  \n",
       "private_equity     12122011.00 62400000.00  4745460219.00  \n",
       "seed                 575000.00  2000000.00   200000000.00  \n",
       "venture             4000000.00 10500000.00 17600000000.00  "
      ]
     },
     "execution_count": 454,
     "metadata": {},
     "output_type": "execute_result"
    }
   ],
   "source": [
    "# Without null - placeholder is median - analyzing the all the inevstment amount across al the four funds\n",
    "master_frame.groupby([\"funding_round_type\"]).describe()"
   ]
  },
  {
   "cell_type": "markdown",
   "metadata": {},
   "source": [
    "- If we analyze the above table then we can easily remove **seed** and **angel** fund as the investment amount for both the funds are less i.e less than 3rd qurtile investment are below 2 million USD.\n",
    "\n",
    "- In the case of **private equity** investment amount are too high in different quartile ranges while comparing with **venture** funds. In all the quartiles venture funds are fulfilling the investment amount range criteria of **spark funds** and overall sum of investment is highest among all the funds. \n",
    "\n",
    "- Based on above analysis **VENTURE** is the most suitable for Spark Funds"
   ]
  },
  {
   "cell_type": "code",
   "execution_count": 455,
   "metadata": {},
   "outputs": [
    {
     "data": {
      "text/html": [
       "<div>\n",
       "<style scoped>\n",
       "    .dataframe tbody tr th:only-of-type {\n",
       "        vertical-align: middle;\n",
       "    }\n",
       "\n",
       "    .dataframe tbody tr th {\n",
       "        vertical-align: top;\n",
       "    }\n",
       "\n",
       "    .dataframe thead th {\n",
       "        text-align: right;\n",
       "    }\n",
       "</style>\n",
       "<table border=\"1\" class=\"dataframe\">\n",
       "  <thead>\n",
       "    <tr style=\"text-align: right;\">\n",
       "      <th></th>\n",
       "      <th>company_permalink</th>\n",
       "      <th>funding_round_type</th>\n",
       "      <th>funded_at</th>\n",
       "      <th>raised_amount_usd</th>\n",
       "      <th>name</th>\n",
       "      <th>category_list</th>\n",
       "      <th>status</th>\n",
       "      <th>country_code</th>\n",
       "    </tr>\n",
       "  </thead>\n",
       "  <tbody>\n",
       "    <tr>\n",
       "      <th>0</th>\n",
       "      <td>/organization/-fame</td>\n",
       "      <td>venture</td>\n",
       "      <td>05-01-2015</td>\n",
       "      <td>10000000.00</td>\n",
       "      <td>#fame</td>\n",
       "      <td>Media</td>\n",
       "      <td>operating</td>\n",
       "      <td>IND</td>\n",
       "    </tr>\n",
       "    <tr>\n",
       "      <th>1</th>\n",
       "      <td>/organization/-qounter</td>\n",
       "      <td>venture</td>\n",
       "      <td>14-10-2014</td>\n",
       "      <td>2000000.00</td>\n",
       "      <td>:Qounter</td>\n",
       "      <td>Application Platforms|Real Time|Social Network...</td>\n",
       "      <td>operating</td>\n",
       "      <td>USA</td>\n",
       "    </tr>\n",
       "    <tr>\n",
       "      <th>3</th>\n",
       "      <td>/organization/-the-one-of-them-inc-</td>\n",
       "      <td>venture</td>\n",
       "      <td>30-01-2014</td>\n",
       "      <td>3406878.00</td>\n",
       "      <td>(THE) ONE of THEM,Inc.</td>\n",
       "      <td>Apps|Games|Mobile</td>\n",
       "      <td>operating</td>\n",
       "      <td>NaN</td>\n",
       "    </tr>\n",
       "    <tr>\n",
       "      <th>4</th>\n",
       "      <td>/organization/0-6-com</td>\n",
       "      <td>venture</td>\n",
       "      <td>19-03-2008</td>\n",
       "      <td>2000000.00</td>\n",
       "      <td>0-6.com</td>\n",
       "      <td>Curated Web</td>\n",
       "      <td>operating</td>\n",
       "      <td>CHN</td>\n",
       "    </tr>\n",
       "    <tr>\n",
       "      <th>5</th>\n",
       "      <td>/organization/004-technologies</td>\n",
       "      <td>venture</td>\n",
       "      <td>24-07-2014</td>\n",
       "      <td>2000000.00</td>\n",
       "      <td>004 Technologies</td>\n",
       "      <td>Software</td>\n",
       "      <td>operating</td>\n",
       "      <td>USA</td>\n",
       "    </tr>\n",
       "  </tbody>\n",
       "</table>\n",
       "</div>"
      ],
      "text/plain": [
       "                     company_permalink funding_round_type   funded_at  \\\n",
       "0                  /organization/-fame            venture  05-01-2015   \n",
       "1               /organization/-qounter            venture  14-10-2014   \n",
       "3  /organization/-the-one-of-them-inc-            venture  30-01-2014   \n",
       "4                /organization/0-6-com            venture  19-03-2008   \n",
       "5       /organization/004-technologies            venture  24-07-2014   \n",
       "\n",
       "   raised_amount_usd                    name  \\\n",
       "0        10000000.00                   #fame   \n",
       "1         2000000.00                :Qounter   \n",
       "3         3406878.00  (THE) ONE of THEM,Inc.   \n",
       "4         2000000.00                 0-6.com   \n",
       "5         2000000.00        004 Technologies   \n",
       "\n",
       "                                       category_list     status country_code  \n",
       "0                                              Media  operating          IND  \n",
       "1  Application Platforms|Real Time|Social Network...  operating          USA  \n",
       "3                                  Apps|Games|Mobile  operating          NaN  \n",
       "4                                        Curated Web  operating          CHN  \n",
       "5                                           Software  operating          USA  "
      ]
     },
     "execution_count": 455,
     "metadata": {},
     "output_type": "execute_result"
    }
   ],
   "source": [
    "# Filter all except venture as funding round type\n",
    "master_frame = master_frame.loc[master_frame.funding_round_type=='venture']\n",
    "master_frame.head()"
   ]
  },
  {
   "cell_type": "code",
   "execution_count": 456,
   "metadata": {},
   "outputs": [
    {
     "data": {
      "text/plain": [
       "(55494, 8)"
      ]
     },
     "execution_count": 456,
     "metadata": {},
     "output_type": "execute_result"
    }
   ],
   "source": [
    "# Check rows and columns of dataframe\n",
    "master_frame.shape"
   ]
  },
  {
   "cell_type": "markdown",
   "metadata": {},
   "source": [
    "# 3. Country Analysis\n",
    "- Spark Funds wants to invest in countries with the highest amount of funding for the chosen investment type. This is a part of its broader strategy to invest where most investments are occurring."
   ]
  },
  {
   "cell_type": "code",
   "execution_count": 457,
   "metadata": {},
   "outputs": [
    {
     "data": {
      "text/html": [
       "<div>\n",
       "<style scoped>\n",
       "    .dataframe tbody tr th:only-of-type {\n",
       "        vertical-align: middle;\n",
       "    }\n",
       "\n",
       "    .dataframe tbody tr th {\n",
       "        vertical-align: top;\n",
       "    }\n",
       "\n",
       "    .dataframe thead th {\n",
       "        text-align: right;\n",
       "    }\n",
       "</style>\n",
       "<table border=\"1\" class=\"dataframe\">\n",
       "  <thead>\n",
       "    <tr style=\"text-align: right;\">\n",
       "      <th></th>\n",
       "      <th>country_code</th>\n",
       "      <th>raised_amount_usd</th>\n",
       "    </tr>\n",
       "  </thead>\n",
       "  <tbody>\n",
       "    <tr>\n",
       "      <th>100</th>\n",
       "      <td>USA</td>\n",
       "      <td>426976842796.00</td>\n",
       "    </tr>\n",
       "    <tr>\n",
       "      <th>16</th>\n",
       "      <td>CHN</td>\n",
       "      <td>40881418773.00</td>\n",
       "    </tr>\n",
       "    <tr>\n",
       "      <th>31</th>\n",
       "      <td>GBR</td>\n",
       "      <td>20741627416.00</td>\n",
       "    </tr>\n",
       "    <tr>\n",
       "      <th>41</th>\n",
       "      <td>IND</td>\n",
       "      <td>14727858718.00</td>\n",
       "    </tr>\n",
       "    <tr>\n",
       "      <th>13</th>\n",
       "      <td>CAN</td>\n",
       "      <td>9763332317.00</td>\n",
       "    </tr>\n",
       "    <tr>\n",
       "      <th>30</th>\n",
       "      <td>FRA</td>\n",
       "      <td>7395536732.00</td>\n",
       "    </tr>\n",
       "    <tr>\n",
       "      <th>44</th>\n",
       "      <td>ISR</td>\n",
       "      <td>7135514579.00</td>\n",
       "    </tr>\n",
       "    <tr>\n",
       "      <th>23</th>\n",
       "      <td>DEU</td>\n",
       "      <td>6802959822.00</td>\n",
       "    </tr>\n",
       "    <tr>\n",
       "      <th>47</th>\n",
       "      <td>JPN</td>\n",
       "      <td>3451676611.00</td>\n",
       "    </tr>\n",
       "    <tr>\n",
       "      <th>90</th>\n",
       "      <td>SWE</td>\n",
       "      <td>3316952563.00</td>\n",
       "    </tr>\n",
       "    <tr>\n",
       "      <th>71</th>\n",
       "      <td>NLD</td>\n",
       "      <td>3057403619.00</td>\n",
       "    </tr>\n",
       "    <tr>\n",
       "      <th>14</th>\n",
       "      <td>CHE</td>\n",
       "      <td>2939560264.00</td>\n",
       "    </tr>\n",
       "    <tr>\n",
       "      <th>87</th>\n",
       "      <td>SGP</td>\n",
       "      <td>2927917856.00</td>\n",
       "    </tr>\n",
       "    <tr>\n",
       "      <th>11</th>\n",
       "      <td>BRA</td>\n",
       "      <td>1977986890.00</td>\n",
       "    </tr>\n",
       "    <tr>\n",
       "      <th>27</th>\n",
       "      <td>ESP</td>\n",
       "      <td>1885831452.00</td>\n",
       "    </tr>\n",
       "    <tr>\n",
       "      <th>42</th>\n",
       "      <td>IRL</td>\n",
       "      <td>1778131350.00</td>\n",
       "    </tr>\n",
       "    <tr>\n",
       "      <th>83</th>\n",
       "      <td>RUS</td>\n",
       "      <td>1618426005.00</td>\n",
       "    </tr>\n",
       "    <tr>\n",
       "      <th>3</th>\n",
       "      <td>AUS</td>\n",
       "      <td>1358934948.00</td>\n",
       "    </tr>\n",
       "    <tr>\n",
       "      <th>24</th>\n",
       "      <td>DNK</td>\n",
       "      <td>1278310641.00</td>\n",
       "    </tr>\n",
       "    <tr>\n",
       "      <th>29</th>\n",
       "      <td>FIN</td>\n",
       "      <td>1085199709.00</td>\n",
       "    </tr>\n",
       "    <tr>\n",
       "      <th>6</th>\n",
       "      <td>BEL</td>\n",
       "      <td>1082542301.00</td>\n",
       "    </tr>\n",
       "    <tr>\n",
       "      <th>51</th>\n",
       "      <td>KOR</td>\n",
       "      <td>989988262.00</td>\n",
       "    </tr>\n",
       "    <tr>\n",
       "      <th>72</th>\n",
       "      <td>NOR</td>\n",
       "      <td>970192413.00</td>\n",
       "    </tr>\n",
       "    <tr>\n",
       "      <th>69</th>\n",
       "      <td>MYS</td>\n",
       "      <td>895058787.00</td>\n",
       "    </tr>\n",
       "    <tr>\n",
       "      <th>37</th>\n",
       "      <td>HKG</td>\n",
       "      <td>819266982.00</td>\n",
       "    </tr>\n",
       "    <tr>\n",
       "      <th>4</th>\n",
       "      <td>AUT</td>\n",
       "      <td>652954952.00</td>\n",
       "    </tr>\n",
       "    <tr>\n",
       "      <th>96</th>\n",
       "      <td>TWN</td>\n",
       "      <td>645979485.00</td>\n",
       "    </tr>\n",
       "    <tr>\n",
       "      <th>95</th>\n",
       "      <td>TUR</td>\n",
       "      <td>611097457.00</td>\n",
       "    </tr>\n",
       "    <tr>\n",
       "      <th>45</th>\n",
       "      <td>ITA</td>\n",
       "      <td>508289353.00</td>\n",
       "    </tr>\n",
       "    <tr>\n",
       "      <th>73</th>\n",
       "      <td>NZL</td>\n",
       "      <td>452316383.00</td>\n",
       "    </tr>\n",
       "    <tr>\n",
       "      <th>57</th>\n",
       "      <td>LUX</td>\n",
       "      <td>371100678.00</td>\n",
       "    </tr>\n",
       "    <tr>\n",
       "      <th>0</th>\n",
       "      <td>ARE</td>\n",
       "      <td>358617539.00</td>\n",
       "    </tr>\n",
       "    <tr>\n",
       "      <th>40</th>\n",
       "      <td>IDN</td>\n",
       "      <td>338492285.00</td>\n",
       "    </tr>\n",
       "    <tr>\n",
       "      <th>1</th>\n",
       "      <td>ARG</td>\n",
       "      <td>336338819.00</td>\n",
       "    </tr>\n",
       "    <tr>\n",
       "      <th>10</th>\n",
       "      <td>BMU</td>\n",
       "      <td>290800000.00</td>\n",
       "    </tr>\n",
       "    <tr>\n",
       "      <th>26</th>\n",
       "      <td>EGY</td>\n",
       "      <td>274225000.00</td>\n",
       "    </tr>\n",
       "    <tr>\n",
       "      <th>102</th>\n",
       "      <td>ZAF</td>\n",
       "      <td>262062861.00</td>\n",
       "    </tr>\n",
       "    <tr>\n",
       "      <th>70</th>\n",
       "      <td>NGA</td>\n",
       "      <td>249440000.00</td>\n",
       "    </tr>\n",
       "    <tr>\n",
       "      <th>62</th>\n",
       "      <td>MEX</td>\n",
       "      <td>204873643.00</td>\n",
       "    </tr>\n",
       "    <tr>\n",
       "      <th>22</th>\n",
       "      <td>CZE</td>\n",
       "      <td>194341562.00</td>\n",
       "    </tr>\n",
       "  </tbody>\n",
       "</table>\n",
       "</div>"
      ],
      "text/plain": [
       "    country_code  raised_amount_usd\n",
       "100          USA    426976842796.00\n",
       "16           CHN     40881418773.00\n",
       "31           GBR     20741627416.00\n",
       "41           IND     14727858718.00\n",
       "13           CAN      9763332317.00\n",
       "30           FRA      7395536732.00\n",
       "44           ISR      7135514579.00\n",
       "23           DEU      6802959822.00\n",
       "47           JPN      3451676611.00\n",
       "90           SWE      3316952563.00\n",
       "71           NLD      3057403619.00\n",
       "14           CHE      2939560264.00\n",
       "87           SGP      2927917856.00\n",
       "11           BRA      1977986890.00\n",
       "27           ESP      1885831452.00\n",
       "42           IRL      1778131350.00\n",
       "83           RUS      1618426005.00\n",
       "3            AUS      1358934948.00\n",
       "24           DNK      1278310641.00\n",
       "29           FIN      1085199709.00\n",
       "6            BEL      1082542301.00\n",
       "51           KOR       989988262.00\n",
       "72           NOR       970192413.00\n",
       "69           MYS       895058787.00\n",
       "37           HKG       819266982.00\n",
       "4            AUT       652954952.00\n",
       "96           TWN       645979485.00\n",
       "95           TUR       611097457.00\n",
       "45           ITA       508289353.00\n",
       "73           NZL       452316383.00\n",
       "57           LUX       371100678.00\n",
       "0            ARE       358617539.00\n",
       "40           IDN       338492285.00\n",
       "1            ARG       336338819.00\n",
       "10           BMU       290800000.00\n",
       "26           EGY       274225000.00\n",
       "102          ZAF       262062861.00\n",
       "70           NGA       249440000.00\n",
       "62           MEX       204873643.00\n",
       "22           CZE       194341562.00"
      ]
     },
     "execution_count": 457,
     "metadata": {},
     "output_type": "execute_result"
    }
   ],
   "source": [
    "# Top investment countries(Amounts are calculated in million USD)\n",
    "top_countries=master_frame.groupby('country_code').sum('raised_amount_usd').reset_index()\n",
    "#top_countries.raised_amount_usd=top_countries.raised_amount_usd.apply(lambda x: round(x/1000000,4))\n",
    "top_countries.sort_values('raised_amount_usd', ascending=False).head(40)"
   ]
  },
  {
   "cell_type": "code",
   "execution_count": 458,
   "metadata": {},
   "outputs": [],
   "source": [
    "# Get Venture funding round type and top coutries data only\n",
    "top9 = master_frame[(master_frame.funding_round_type=='venture')&(master_frame.country_code.apply(lambda x : x if x in ['USA','GBR','IND','CAN','SGP','IRL','AUS','NZL','NGA'] else np.NaN))]"
   ]
  },
  {
   "cell_type": "code",
   "execution_count": 459,
   "metadata": {},
   "outputs": [
    {
     "name": "stdout",
     "output_type": "stream",
     "text": [
      "<class 'pandas.core.frame.DataFrame'>\n",
      "Int64Index: 43865 entries, 0 to 114936\n",
      "Data columns (total 8 columns):\n",
      " #   Column              Non-Null Count  Dtype  \n",
      "---  ------              --------------  -----  \n",
      " 0   company_permalink   43865 non-null  object \n",
      " 1   funding_round_type  43865 non-null  object \n",
      " 2   funded_at           43865 non-null  object \n",
      " 3   raised_amount_usd   43865 non-null  float64\n",
      " 4   name                43865 non-null  object \n",
      " 5   category_list       43452 non-null  object \n",
      " 6   status              43865 non-null  object \n",
      " 7   country_code        43865 non-null  object \n",
      "dtypes: float64(1), object(7)\n",
      "memory usage: 3.0+ MB\n"
     ]
    }
   ],
   "source": [
    "top9.info()"
   ]
  },
  {
   "cell_type": "code",
   "execution_count": 460,
   "metadata": {},
   "outputs": [
    {
     "data": {
      "text/plain": [
       "USA    38372\n",
       "GBR     2303\n",
       "CAN     1346\n",
       "IND      992\n",
       "SGP      288\n",
       "IRL      273\n",
       "AUS      224\n",
       "NZL       50\n",
       "NGA       17\n",
       "Name: country_code, dtype: int64"
      ]
     },
     "execution_count": 460,
     "metadata": {},
     "output_type": "execute_result"
    }
   ],
   "source": [
    "# sanity check - if all 9 countries are present or not\n",
    "top9.country_code.value_counts()"
   ]
  },
  {
   "cell_type": "code",
   "execution_count": 461,
   "metadata": {},
   "outputs": [],
   "source": [
    "# Remove those rows which has null in country code\n",
    "top9.dropna(subset=[\"country_code\"], inplace=True)"
   ]
  },
  {
   "cell_type": "code",
   "execution_count": 462,
   "metadata": {},
   "outputs": [
    {
     "data": {
      "text/plain": [
       "0"
      ]
     },
     "execution_count": 462,
     "metadata": {},
     "output_type": "execute_result"
    }
   ],
   "source": [
    "# Sanity check of null\n",
    "top9.country_code.isnull().sum()"
   ]
  },
  {
   "cell_type": "code",
   "execution_count": 463,
   "metadata": {},
   "outputs": [
    {
     "data": {
      "text/plain": [
       "(43865, 8)"
      ]
     },
     "execution_count": 463,
     "metadata": {},
     "output_type": "execute_result"
    }
   ],
   "source": [
    "# Check rows and columns of dataframe\n",
    "top9.shape"
   ]
  },
  {
   "cell_type": "code",
   "execution_count": 464,
   "metadata": {},
   "outputs": [
    {
     "data": {
      "text/plain": [
       "USA    38372\n",
       "GBR     2303\n",
       "CAN     1346\n",
       "IND      992\n",
       "SGP      288\n",
       "IRL      273\n",
       "AUS      224\n",
       "NZL       50\n",
       "NGA       17\n",
       "Name: country_code, dtype: int64"
      ]
     },
     "execution_count": 464,
     "metadata": {},
     "output_type": "execute_result"
    }
   ],
   "source": [
    "# sanity check - if all 9 countries are present or not\n",
    "top9.country_code.value_counts()"
   ]
  },
  {
   "cell_type": "code",
   "execution_count": 465,
   "metadata": {},
   "outputs": [
    {
     "data": {
      "text/plain": [
       "venture    43865\n",
       "Name: funding_round_type, dtype: int64"
      ]
     },
     "execution_count": 465,
     "metadata": {},
     "output_type": "execute_result"
    }
   ],
   "source": [
    "# sanity check - if all funding type is present or not\n",
    "top9.funding_round_type.value_counts()"
   ]
  },
  {
   "cell_type": "code",
   "execution_count": 466,
   "metadata": {},
   "outputs": [
    {
     "data": {
      "text/plain": [
       "0"
      ]
     },
     "execution_count": 466,
     "metadata": {},
     "output_type": "execute_result"
    }
   ],
   "source": [
    "# sanity check - null in round type\n",
    "top9.funding_round_type.isnull().sum()"
   ]
  },
  {
   "cell_type": "code",
   "execution_count": 467,
   "metadata": {},
   "outputs": [],
   "source": [
    "# Country wise investment\n",
    "top9_funding_country=top9.groupby('country_code').sum('raised_amount_usd').sort_values('raised_amount_usd', ascending=False).round(2). reset_index()"
   ]
  },
  {
   "cell_type": "code",
   "execution_count": 468,
   "metadata": {},
   "outputs": [
    {
     "data": {
      "image/png": "[encoded data removed]",
      "text/plain": [
       "<Figure size 360x360 with 1 Axes>"
      ]
     },
     "metadata": {},
     "output_type": "display_data"
    }
   ],
   "source": [
    "# Plotting the sum of investment against all the top 9 countries\n",
    "sns.set_theme(style=\"ticks\", color_codes=True)\n",
    "sns.catplot(x=\"country_code\", y=\"raised_amount_usd\", kind=\"bar\", data=top9_funding_country)\n",
    "plt.yscale(\"log\")\n",
    "plt.show()"
   ]
  },
  {
   "cell_type": "code",
   "execution_count": 469,
   "metadata": {},
   "outputs": [
    {
     "data": {
      "text/html": [
       "<div>\n",
       "<style scoped>\n",
       "    .dataframe tbody tr th:only-of-type {\n",
       "        vertical-align: middle;\n",
       "    }\n",
       "\n",
       "    .dataframe tbody tr th {\n",
       "        vertical-align: top;\n",
       "    }\n",
       "\n",
       "    .dataframe thead th {\n",
       "        text-align: right;\n",
       "    }\n",
       "</style>\n",
       "<table border=\"1\" class=\"dataframe\">\n",
       "  <thead>\n",
       "    <tr style=\"text-align: right;\">\n",
       "      <th></th>\n",
       "      <th>country_code</th>\n",
       "      <th>raised_amount_usd</th>\n",
       "    </tr>\n",
       "  </thead>\n",
       "  <tbody>\n",
       "    <tr>\n",
       "      <th>0</th>\n",
       "      <td>USA</td>\n",
       "      <td>426976842796.00</td>\n",
       "    </tr>\n",
       "    <tr>\n",
       "      <th>1</th>\n",
       "      <td>GBR</td>\n",
       "      <td>20741627416.00</td>\n",
       "    </tr>\n",
       "    <tr>\n",
       "      <th>2</th>\n",
       "      <td>IND</td>\n",
       "      <td>14727858718.00</td>\n",
       "    </tr>\n",
       "    <tr>\n",
       "      <th>3</th>\n",
       "      <td>CAN</td>\n",
       "      <td>9763332317.00</td>\n",
       "    </tr>\n",
       "    <tr>\n",
       "      <th>4</th>\n",
       "      <td>SGP</td>\n",
       "      <td>2927917856.00</td>\n",
       "    </tr>\n",
       "    <tr>\n",
       "      <th>5</th>\n",
       "      <td>IRL</td>\n",
       "      <td>1778131350.00</td>\n",
       "    </tr>\n",
       "    <tr>\n",
       "      <th>6</th>\n",
       "      <td>AUS</td>\n",
       "      <td>1358934948.00</td>\n",
       "    </tr>\n",
       "    <tr>\n",
       "      <th>7</th>\n",
       "      <td>NZL</td>\n",
       "      <td>452316383.00</td>\n",
       "    </tr>\n",
       "    <tr>\n",
       "      <th>8</th>\n",
       "      <td>NGA</td>\n",
       "      <td>249440000.00</td>\n",
       "    </tr>\n",
       "  </tbody>\n",
       "</table>\n",
       "</div>"
      ],
      "text/plain": [
       "  country_code  raised_amount_usd\n",
       "0          USA    426976842796.00\n",
       "1          GBR     20741627416.00\n",
       "2          IND     14727858718.00\n",
       "3          CAN      9763332317.00\n",
       "4          SGP      2927917856.00\n",
       "5          IRL      1778131350.00\n",
       "6          AUS      1358934948.00\n",
       "7          NZL       452316383.00\n",
       "8          NGA       249440000.00"
      ]
     },
     "execution_count": 469,
     "metadata": {},
     "output_type": "execute_result"
    }
   ],
   "source": [
    "top9_funding_country"
   ]
  },
  {
   "cell_type": "markdown",
   "metadata": {},
   "source": [
    "### Expected Result:\n",
    "- Top nine countries which have received the highest total funding (across ALL sectors for the chosen investment type)\n",
    "  - These all are english speaking or accepted as official language in the country -\n",
    "    ***USA,GBR,IND,CAN,SGP,IRL,AUS,NZL,NGA***\n",
    "  - **Top English-speaking country** - USA\n",
    "  - **Second English-speaking country** - GBR\n",
    "  - **Third English-speaking country** - IND"
   ]
  },
  {
   "cell_type": "code",
   "execution_count": 470,
   "metadata": {},
   "outputs": [
    {
     "data": {
      "text/plain": [
       "(43865, 8)"
      ]
     },
     "execution_count": 470,
     "metadata": {},
     "output_type": "execute_result"
    }
   ],
   "source": [
    "# Check rows and columns of dataframe\n",
    "top9.shape"
   ]
  },
  {
   "cell_type": "markdown",
   "metadata": {},
   "source": [
    "# 4. Sector Analysis 1"
   ]
  },
  {
   "cell_type": "code",
   "execution_count": 471,
   "metadata": {},
   "outputs": [],
   "source": [
    "# Load mapping data \n",
    "mapping=pd.read_csv(mappingFilePath, encoding=\"Palmos\")"
   ]
  },
  {
   "cell_type": "code",
   "execution_count": 472,
   "metadata": {},
   "outputs": [
    {
     "data": {
      "text/plain": [
       "(688, 10)"
      ]
     },
     "execution_count": 472,
     "metadata": {},
     "output_type": "execute_result"
    }
   ],
   "source": [
    "mapping.shape"
   ]
  },
  {
   "cell_type": "code",
   "execution_count": 473,
   "metadata": {},
   "outputs": [
    {
     "data": {
      "text/html": [
       "<div>\n",
       "<style scoped>\n",
       "    .dataframe tbody tr th:only-of-type {\n",
       "        vertical-align: middle;\n",
       "    }\n",
       "\n",
       "    .dataframe tbody tr th {\n",
       "        vertical-align: top;\n",
       "    }\n",
       "\n",
       "    .dataframe thead th {\n",
       "        text-align: right;\n",
       "    }\n",
       "</style>\n",
       "<table border=\"1\" class=\"dataframe\">\n",
       "  <thead>\n",
       "    <tr style=\"text-align: right;\">\n",
       "      <th></th>\n",
       "      <th>category_list</th>\n",
       "      <th>Automotive &amp; Sports</th>\n",
       "      <th>Blanks</th>\n",
       "      <th>Cleantech / Semiconductors</th>\n",
       "      <th>Entertainment</th>\n",
       "      <th>Health</th>\n",
       "      <th>Manufacturing</th>\n",
       "      <th>News, Search and Messaging</th>\n",
       "      <th>Others</th>\n",
       "      <th>Social, Finance, Analytics, Advertising</th>\n",
       "    </tr>\n",
       "  </thead>\n",
       "  <tbody>\n",
       "    <tr>\n",
       "      <th>0</th>\n",
       "      <td>NaN</td>\n",
       "      <td>0</td>\n",
       "      <td>1</td>\n",
       "      <td>0</td>\n",
       "      <td>0</td>\n",
       "      <td>0</td>\n",
       "      <td>0</td>\n",
       "      <td>0</td>\n",
       "      <td>0</td>\n",
       "      <td>0</td>\n",
       "    </tr>\n",
       "    <tr>\n",
       "      <th>1</th>\n",
       "      <td>3D</td>\n",
       "      <td>0</td>\n",
       "      <td>0</td>\n",
       "      <td>0</td>\n",
       "      <td>0</td>\n",
       "      <td>0</td>\n",
       "      <td>1</td>\n",
       "      <td>0</td>\n",
       "      <td>0</td>\n",
       "      <td>0</td>\n",
       "    </tr>\n",
       "    <tr>\n",
       "      <th>2</th>\n",
       "      <td>3D Printing</td>\n",
       "      <td>0</td>\n",
       "      <td>0</td>\n",
       "      <td>0</td>\n",
       "      <td>0</td>\n",
       "      <td>0</td>\n",
       "      <td>1</td>\n",
       "      <td>0</td>\n",
       "      <td>0</td>\n",
       "      <td>0</td>\n",
       "    </tr>\n",
       "    <tr>\n",
       "      <th>3</th>\n",
       "      <td>3D Technology</td>\n",
       "      <td>0</td>\n",
       "      <td>0</td>\n",
       "      <td>0</td>\n",
       "      <td>0</td>\n",
       "      <td>0</td>\n",
       "      <td>1</td>\n",
       "      <td>0</td>\n",
       "      <td>0</td>\n",
       "      <td>0</td>\n",
       "    </tr>\n",
       "    <tr>\n",
       "      <th>4</th>\n",
       "      <td>Accounting</td>\n",
       "      <td>0</td>\n",
       "      <td>0</td>\n",
       "      <td>0</td>\n",
       "      <td>0</td>\n",
       "      <td>0</td>\n",
       "      <td>0</td>\n",
       "      <td>0</td>\n",
       "      <td>0</td>\n",
       "      <td>1</td>\n",
       "    </tr>\n",
       "  </tbody>\n",
       "</table>\n",
       "</div>"
      ],
      "text/plain": [
       "   category_list  Automotive & Sports  Blanks  Cleantech / Semiconductors  \\\n",
       "0            NaN                    0       1                           0   \n",
       "1             3D                    0       0                           0   \n",
       "2    3D Printing                    0       0                           0   \n",
       "3  3D Technology                    0       0                           0   \n",
       "4     Accounting                    0       0                           0   \n",
       "\n",
       "   Entertainment  Health  Manufacturing  News, Search and Messaging  Others  \\\n",
       "0              0       0              0                           0       0   \n",
       "1              0       0              1                           0       0   \n",
       "2              0       0              1                           0       0   \n",
       "3              0       0              1                           0       0   \n",
       "4              0       0              0                           0       0   \n",
       "\n",
       "   Social, Finance, Analytics, Advertising  \n",
       "0                                        0  \n",
       "1                                        0  \n",
       "2                                        0  \n",
       "3                                        0  \n",
       "4                                        1  "
      ]
     },
     "execution_count": 473,
     "metadata": {},
     "output_type": "execute_result"
    }
   ],
   "source": [
    "mapping.head()"
   ]
  },
  {
   "cell_type": "code",
   "execution_count": 474,
   "metadata": {},
   "outputs": [
    {
     "name": "stdout",
     "output_type": "stream",
     "text": [
      "['Automotive & Sports', 'Blanks', 'Cleantech / Semiconductors', 'Entertainment', 'Health', 'Manufacturing', 'News, Search and Messaging', 'Others', 'Social, Finance, Analytics, Advertising'] \n",
      "\n",
      "['category_list']\n"
     ]
    }
   ],
   "source": [
    "# store the value and id variables in two separate arrays\n",
    "\n",
    "# store the value variables in one Series\n",
    "category_vars = list(mapping.columns[1:])\n",
    "\n",
    "# take the setdiff() to get the rest of the variables\n",
    "cat_type_vars = list(np.setdiff1d(mapping.columns, category_vars))\n",
    "print(category_vars, \"\\n\")\n",
    "print(cat_type_vars)\n"
   ]
  },
  {
   "cell_type": "code",
   "execution_count": 475,
   "metadata": {},
   "outputs": [
    {
     "data": {
      "text/html": [
       "<div>\n",
       "<style scoped>\n",
       "    .dataframe tbody tr th:only-of-type {\n",
       "        vertical-align: middle;\n",
       "    }\n",
       "\n",
       "    .dataframe tbody tr th {\n",
       "        vertical-align: top;\n",
       "    }\n",
       "\n",
       "    .dataframe thead th {\n",
       "        text-align: right;\n",
       "    }\n",
       "</style>\n",
       "<table border=\"1\" class=\"dataframe\">\n",
       "  <thead>\n",
       "    <tr style=\"text-align: right;\">\n",
       "      <th></th>\n",
       "      <th>category_list</th>\n",
       "      <th>Automotive &amp; Sports</th>\n",
       "      <th>Blanks</th>\n",
       "      <th>Cleantech / Semiconductors</th>\n",
       "      <th>Entertainment</th>\n",
       "      <th>Health</th>\n",
       "      <th>Manufacturing</th>\n",
       "      <th>News, Search and Messaging</th>\n",
       "      <th>Others</th>\n",
       "      <th>Social, Finance, Analytics, Advertising</th>\n",
       "    </tr>\n",
       "  </thead>\n",
       "  <tbody>\n",
       "    <tr>\n",
       "      <th>0</th>\n",
       "      <td>NaN</td>\n",
       "      <td>0</td>\n",
       "      <td>1</td>\n",
       "      <td>0</td>\n",
       "      <td>0</td>\n",
       "      <td>0</td>\n",
       "      <td>0</td>\n",
       "      <td>0</td>\n",
       "      <td>0</td>\n",
       "      <td>0</td>\n",
       "    </tr>\n",
       "    <tr>\n",
       "      <th>1</th>\n",
       "      <td>3D</td>\n",
       "      <td>0</td>\n",
       "      <td>0</td>\n",
       "      <td>0</td>\n",
       "      <td>0</td>\n",
       "      <td>0</td>\n",
       "      <td>1</td>\n",
       "      <td>0</td>\n",
       "      <td>0</td>\n",
       "      <td>0</td>\n",
       "    </tr>\n",
       "    <tr>\n",
       "      <th>2</th>\n",
       "      <td>3D Printing</td>\n",
       "      <td>0</td>\n",
       "      <td>0</td>\n",
       "      <td>0</td>\n",
       "      <td>0</td>\n",
       "      <td>0</td>\n",
       "      <td>1</td>\n",
       "      <td>0</td>\n",
       "      <td>0</td>\n",
       "      <td>0</td>\n",
       "    </tr>\n",
       "    <tr>\n",
       "      <th>3</th>\n",
       "      <td>3D Technology</td>\n",
       "      <td>0</td>\n",
       "      <td>0</td>\n",
       "      <td>0</td>\n",
       "      <td>0</td>\n",
       "      <td>0</td>\n",
       "      <td>1</td>\n",
       "      <td>0</td>\n",
       "      <td>0</td>\n",
       "      <td>0</td>\n",
       "    </tr>\n",
       "    <tr>\n",
       "      <th>4</th>\n",
       "      <td>Accounting</td>\n",
       "      <td>0</td>\n",
       "      <td>0</td>\n",
       "      <td>0</td>\n",
       "      <td>0</td>\n",
       "      <td>0</td>\n",
       "      <td>0</td>\n",
       "      <td>0</td>\n",
       "      <td>0</td>\n",
       "      <td>1</td>\n",
       "    </tr>\n",
       "  </tbody>\n",
       "</table>\n",
       "</div>"
      ],
      "text/plain": [
       "   category_list  Automotive & Sports  Blanks  Cleantech / Semiconductors  \\\n",
       "0            NaN                    0       1                           0   \n",
       "1             3D                    0       0                           0   \n",
       "2    3D Printing                    0       0                           0   \n",
       "3  3D Technology                    0       0                           0   \n",
       "4     Accounting                    0       0                           0   \n",
       "\n",
       "   Entertainment  Health  Manufacturing  News, Search and Messaging  Others  \\\n",
       "0              0       0              0                           0       0   \n",
       "1              0       0              1                           0       0   \n",
       "2              0       0              1                           0       0   \n",
       "3              0       0              1                           0       0   \n",
       "4              0       0              0                           0       0   \n",
       "\n",
       "   Social, Finance, Analytics, Advertising  \n",
       "0                                        0  \n",
       "1                                        0  \n",
       "2                                        0  \n",
       "3                                        0  \n",
       "4                                        1  "
      ]
     },
     "execution_count": 475,
     "metadata": {},
     "output_type": "execute_result"
    }
   ],
   "source": [
    "mapping.head()"
   ]
  },
  {
   "cell_type": "code",
   "execution_count": 476,
   "metadata": {},
   "outputs": [
    {
     "data": {
      "text/html": [
       "<div>\n",
       "<style scoped>\n",
       "    .dataframe tbody tr th:only-of-type {\n",
       "        vertical-align: middle;\n",
       "    }\n",
       "\n",
       "    .dataframe tbody tr th {\n",
       "        vertical-align: top;\n",
       "    }\n",
       "\n",
       "    .dataframe thead th {\n",
       "        text-align: right;\n",
       "    }\n",
       "</style>\n",
       "<table border=\"1\" class=\"dataframe\">\n",
       "  <thead>\n",
       "    <tr style=\"text-align: right;\">\n",
       "      <th></th>\n",
       "      <th>category_list</th>\n",
       "      <th>variable</th>\n",
       "      <th>value</th>\n",
       "    </tr>\n",
       "  </thead>\n",
       "  <tbody>\n",
       "    <tr>\n",
       "      <th>0</th>\n",
       "      <td>NaN</td>\n",
       "      <td>Automotive &amp; Sports</td>\n",
       "      <td>0</td>\n",
       "    </tr>\n",
       "    <tr>\n",
       "      <th>1</th>\n",
       "      <td>3D</td>\n",
       "      <td>Automotive &amp; Sports</td>\n",
       "      <td>0</td>\n",
       "    </tr>\n",
       "    <tr>\n",
       "      <th>2</th>\n",
       "      <td>3D Printing</td>\n",
       "      <td>Automotive &amp; Sports</td>\n",
       "      <td>0</td>\n",
       "    </tr>\n",
       "    <tr>\n",
       "      <th>3</th>\n",
       "      <td>3D Technology</td>\n",
       "      <td>Automotive &amp; Sports</td>\n",
       "      <td>0</td>\n",
       "    </tr>\n",
       "    <tr>\n",
       "      <th>4</th>\n",
       "      <td>Accounting</td>\n",
       "      <td>Automotive &amp; Sports</td>\n",
       "      <td>0</td>\n",
       "    </tr>\n",
       "    <tr>\n",
       "      <th>...</th>\n",
       "      <td>...</td>\n",
       "      <td>...</td>\n",
       "      <td>...</td>\n",
       "    </tr>\n",
       "    <tr>\n",
       "      <th>6187</th>\n",
       "      <td>Wholesale</td>\n",
       "      <td>Social, Finance, Analytics, Advertising</td>\n",
       "      <td>0</td>\n",
       "    </tr>\n",
       "    <tr>\n",
       "      <th>6188</th>\n",
       "      <td>Wine And Spirits</td>\n",
       "      <td>Social, Finance, Analytics, Advertising</td>\n",
       "      <td>0</td>\n",
       "    </tr>\n",
       "    <tr>\n",
       "      <th>6189</th>\n",
       "      <td>Wireless</td>\n",
       "      <td>Social, Finance, Analytics, Advertising</td>\n",
       "      <td>0</td>\n",
       "    </tr>\n",
       "    <tr>\n",
       "      <th>6190</th>\n",
       "      <td>Women</td>\n",
       "      <td>Social, Finance, Analytics, Advertising</td>\n",
       "      <td>0</td>\n",
       "    </tr>\n",
       "    <tr>\n",
       "      <th>6191</th>\n",
       "      <td>Young Adults</td>\n",
       "      <td>Social, Finance, Analytics, Advertising</td>\n",
       "      <td>0</td>\n",
       "    </tr>\n",
       "  </tbody>\n",
       "</table>\n",
       "<p>6192 rows × 3 columns</p>\n",
       "</div>"
      ],
      "text/plain": [
       "         category_list                                 variable  value\n",
       "0                  NaN                      Automotive & Sports      0\n",
       "1                   3D                      Automotive & Sports      0\n",
       "2          3D Printing                      Automotive & Sports      0\n",
       "3        3D Technology                      Automotive & Sports      0\n",
       "4           Accounting                      Automotive & Sports      0\n",
       "...                ...                                      ...    ...\n",
       "6187         Wholesale  Social, Finance, Analytics, Advertising      0\n",
       "6188  Wine And Spirits  Social, Finance, Analytics, Advertising      0\n",
       "6189          Wireless  Social, Finance, Analytics, Advertising      0\n",
       "6190             Women  Social, Finance, Analytics, Advertising      0\n",
       "6191      Young Adults  Social, Finance, Analytics, Advertising      0\n",
       "\n",
       "[6192 rows x 3 columns]"
      ]
     },
     "execution_count": 476,
     "metadata": {},
     "output_type": "execute_result"
    }
   ],
   "source": [
    "# Compacting DF to more readable \n",
    "mapping_readable_df = pd.melt(mapping, \n",
    "        id_vars = cat_type_vars,\n",
    "        value_vars = category_vars)\n",
    "mapping_readable_df"
   ]
  },
  {
   "cell_type": "code",
   "execution_count": 477,
   "metadata": {},
   "outputs": [
    {
     "data": {
      "text/html": [
       "<div>\n",
       "<style scoped>\n",
       "    .dataframe tbody tr th:only-of-type {\n",
       "        vertical-align: middle;\n",
       "    }\n",
       "\n",
       "    .dataframe tbody tr th {\n",
       "        vertical-align: top;\n",
       "    }\n",
       "\n",
       "    .dataframe thead th {\n",
       "        text-align: right;\n",
       "    }\n",
       "</style>\n",
       "<table border=\"1\" class=\"dataframe\">\n",
       "  <thead>\n",
       "    <tr style=\"text-align: right;\">\n",
       "      <th></th>\n",
       "      <th>category_list</th>\n",
       "      <th>variable</th>\n",
       "    </tr>\n",
       "  </thead>\n",
       "  <tbody>\n",
       "    <tr>\n",
       "      <th>8</th>\n",
       "      <td>Adventure Travel</td>\n",
       "      <td>Automotive &amp; Sports</td>\n",
       "    </tr>\n",
       "    <tr>\n",
       "      <th>14</th>\n",
       "      <td>Aerospace</td>\n",
       "      <td>Automotive &amp; Sports</td>\n",
       "    </tr>\n",
       "    <tr>\n",
       "      <th>45</th>\n",
       "      <td>Auto</td>\n",
       "      <td>Automotive &amp; Sports</td>\n",
       "    </tr>\n",
       "    <tr>\n",
       "      <th>46</th>\n",
       "      <td>Automated Kiosk</td>\n",
       "      <td>Automotive &amp; Sports</td>\n",
       "    </tr>\n",
       "    <tr>\n",
       "      <th>47</th>\n",
       "      <td>Automotive</td>\n",
       "      <td>Automotive &amp; Sports</td>\n",
       "    </tr>\n",
       "    <tr>\n",
       "      <th>...</th>\n",
       "      <td>...</td>\n",
       "      <td>...</td>\n",
       "    </tr>\n",
       "    <tr>\n",
       "      <th>6121</th>\n",
       "      <td>Social Recruiting</td>\n",
       "      <td>Social, Finance, Analytics, Advertising</td>\n",
       "    </tr>\n",
       "    <tr>\n",
       "      <th>6122</th>\n",
       "      <td>Social Television</td>\n",
       "      <td>Social, Finance, Analytics, Advertising</td>\n",
       "    </tr>\n",
       "    <tr>\n",
       "      <th>6123</th>\n",
       "      <td>Social Travel</td>\n",
       "      <td>Social, Finance, Analytics, Advertising</td>\n",
       "    </tr>\n",
       "    <tr>\n",
       "      <th>6134</th>\n",
       "      <td>Stock Exchanges</td>\n",
       "      <td>Social, Finance, Analytics, Advertising</td>\n",
       "    </tr>\n",
       "    <tr>\n",
       "      <th>6167</th>\n",
       "      <td>Venture Capital</td>\n",
       "      <td>Social, Finance, Analytics, Advertising</td>\n",
       "    </tr>\n",
       "  </tbody>\n",
       "</table>\n",
       "<p>688 rows × 2 columns</p>\n",
       "</div>"
      ],
      "text/plain": [
       "          category_list                                 variable\n",
       "8      Adventure Travel                      Automotive & Sports\n",
       "14            Aerospace                      Automotive & Sports\n",
       "45                 Auto                      Automotive & Sports\n",
       "46      Automated Kiosk                      Automotive & Sports\n",
       "47           Automotive                      Automotive & Sports\n",
       "...                 ...                                      ...\n",
       "6121  Social Recruiting  Social, Finance, Analytics, Advertising\n",
       "6122  Social Television  Social, Finance, Analytics, Advertising\n",
       "6123      Social Travel  Social, Finance, Analytics, Advertising\n",
       "6134    Stock Exchanges  Social, Finance, Analytics, Advertising\n",
       "6167    Venture Capital  Social, Finance, Analytics, Advertising\n",
       "\n",
       "[688 rows x 2 columns]"
      ]
     },
     "execution_count": 477,
     "metadata": {},
     "output_type": "execute_result"
    }
   ],
   "source": [
    "# remove rows having value=0\n",
    "mapping_readable_df = mapping_readable_df[mapping_readable_df['value']==1]\n",
    "mapping_readable_df = mapping_readable_df.drop('value', axis=1)\n",
    "\n",
    "mapping_readable_df"
   ]
  },
  {
   "cell_type": "code",
   "execution_count": 478,
   "metadata": {},
   "outputs": [
    {
     "data": {
      "text/html": [
       "<div>\n",
       "<style scoped>\n",
       "    .dataframe tbody tr th:only-of-type {\n",
       "        vertical-align: middle;\n",
       "    }\n",
       "\n",
       "    .dataframe tbody tr th {\n",
       "        vertical-align: top;\n",
       "    }\n",
       "\n",
       "    .dataframe thead th {\n",
       "        text-align: right;\n",
       "    }\n",
       "</style>\n",
       "<table border=\"1\" class=\"dataframe\">\n",
       "  <thead>\n",
       "    <tr style=\"text-align: right;\">\n",
       "      <th></th>\n",
       "      <th>category_list</th>\n",
       "      <th>main_sector</th>\n",
       "    </tr>\n",
       "  </thead>\n",
       "  <tbody>\n",
       "    <tr>\n",
       "      <th>8</th>\n",
       "      <td>Adventure Travel</td>\n",
       "      <td>Automotive &amp; Sports</td>\n",
       "    </tr>\n",
       "    <tr>\n",
       "      <th>14</th>\n",
       "      <td>Aerospace</td>\n",
       "      <td>Automotive &amp; Sports</td>\n",
       "    </tr>\n",
       "    <tr>\n",
       "      <th>45</th>\n",
       "      <td>Auto</td>\n",
       "      <td>Automotive &amp; Sports</td>\n",
       "    </tr>\n",
       "    <tr>\n",
       "      <th>46</th>\n",
       "      <td>Automated Kiosk</td>\n",
       "      <td>Automotive &amp; Sports</td>\n",
       "    </tr>\n",
       "    <tr>\n",
       "      <th>47</th>\n",
       "      <td>Automotive</td>\n",
       "      <td>Automotive &amp; Sports</td>\n",
       "    </tr>\n",
       "    <tr>\n",
       "      <th>...</th>\n",
       "      <td>...</td>\n",
       "      <td>...</td>\n",
       "    </tr>\n",
       "    <tr>\n",
       "      <th>6121</th>\n",
       "      <td>Social Recruiting</td>\n",
       "      <td>Social, Finance, Analytics, Advertising</td>\n",
       "    </tr>\n",
       "    <tr>\n",
       "      <th>6122</th>\n",
       "      <td>Social Television</td>\n",
       "      <td>Social, Finance, Analytics, Advertising</td>\n",
       "    </tr>\n",
       "    <tr>\n",
       "      <th>6123</th>\n",
       "      <td>Social Travel</td>\n",
       "      <td>Social, Finance, Analytics, Advertising</td>\n",
       "    </tr>\n",
       "    <tr>\n",
       "      <th>6134</th>\n",
       "      <td>Stock Exchanges</td>\n",
       "      <td>Social, Finance, Analytics, Advertising</td>\n",
       "    </tr>\n",
       "    <tr>\n",
       "      <th>6167</th>\n",
       "      <td>Venture Capital</td>\n",
       "      <td>Social, Finance, Analytics, Advertising</td>\n",
       "    </tr>\n",
       "  </tbody>\n",
       "</table>\n",
       "<p>688 rows × 2 columns</p>\n",
       "</div>"
      ],
      "text/plain": [
       "          category_list                              main_sector\n",
       "8      Adventure Travel                      Automotive & Sports\n",
       "14            Aerospace                      Automotive & Sports\n",
       "45                 Auto                      Automotive & Sports\n",
       "46      Automated Kiosk                      Automotive & Sports\n",
       "47           Automotive                      Automotive & Sports\n",
       "...                 ...                                      ...\n",
       "6121  Social Recruiting  Social, Finance, Analytics, Advertising\n",
       "6122  Social Television  Social, Finance, Analytics, Advertising\n",
       "6123      Social Travel  Social, Finance, Analytics, Advertising\n",
       "6134    Stock Exchanges  Social, Finance, Analytics, Advertising\n",
       "6167    Venture Capital  Social, Finance, Analytics, Advertising\n",
       "\n",
       "[688 rows x 2 columns]"
      ]
     },
     "execution_count": 478,
     "metadata": {},
     "output_type": "execute_result"
    }
   ],
   "source": [
    "# renaming the 'variable' column\n",
    "mapping_df = mapping_readable_df.rename(columns={'variable': 'main_sector'})\n",
    "mapping_df"
   ]
  },
  {
   "cell_type": "code",
   "execution_count": 479,
   "metadata": {},
   "outputs": [
    {
     "name": "stdout",
     "output_type": "stream",
     "text": [
      "<class 'pandas.core.frame.DataFrame'>\n",
      "Int64Index: 687 entries, 8 to 6167\n",
      "Data columns (total 2 columns):\n",
      " #   Column         Non-Null Count  Dtype \n",
      "---  ------         --------------  ----- \n",
      " 0   category_list  687 non-null    object\n",
      " 1   main_sector    687 non-null    object\n",
      "dtypes: object(2)\n",
      "memory usage: 16.1+ KB\n"
     ]
    }
   ],
   "source": [
    "# Drop null values \n",
    "mapping_df.dropna(subset=[\"category_list\"], inplace=True)\n",
    "mapping_df.info()"
   ]
  },
  {
   "cell_type": "code",
   "execution_count": 480,
   "metadata": {},
   "outputs": [
    {
     "data": {
      "text/html": [
       "<div>\n",
       "<style scoped>\n",
       "    .dataframe tbody tr th:only-of-type {\n",
       "        vertical-align: middle;\n",
       "    }\n",
       "\n",
       "    .dataframe tbody tr th {\n",
       "        vertical-align: top;\n",
       "    }\n",
       "\n",
       "    .dataframe thead th {\n",
       "        text-align: right;\n",
       "    }\n",
       "</style>\n",
       "<table border=\"1\" class=\"dataframe\">\n",
       "  <thead>\n",
       "    <tr style=\"text-align: right;\">\n",
       "      <th></th>\n",
       "      <th>category_list</th>\n",
       "      <th>main_sector</th>\n",
       "    </tr>\n",
       "  </thead>\n",
       "  <tbody>\n",
       "    <tr>\n",
       "      <th>8</th>\n",
       "      <td>Adventure Travel</td>\n",
       "      <td>Automotive &amp; Sports</td>\n",
       "    </tr>\n",
       "    <tr>\n",
       "      <th>14</th>\n",
       "      <td>Aerospace</td>\n",
       "      <td>Automotive &amp; Sports</td>\n",
       "    </tr>\n",
       "    <tr>\n",
       "      <th>45</th>\n",
       "      <td>Auto</td>\n",
       "      <td>Automotive &amp; Sports</td>\n",
       "    </tr>\n",
       "    <tr>\n",
       "      <th>46</th>\n",
       "      <td>Automated Kiosk</td>\n",
       "      <td>Automotive &amp; Sports</td>\n",
       "    </tr>\n",
       "    <tr>\n",
       "      <th>47</th>\n",
       "      <td>Automotive</td>\n",
       "      <td>Automotive &amp; Sports</td>\n",
       "    </tr>\n",
       "    <tr>\n",
       "      <th>...</th>\n",
       "      <td>...</td>\n",
       "      <td>...</td>\n",
       "    </tr>\n",
       "    <tr>\n",
       "      <th>6121</th>\n",
       "      <td>Social Recruiting</td>\n",
       "      <td>Social, Finance, Analytics, Advertising</td>\n",
       "    </tr>\n",
       "    <tr>\n",
       "      <th>6122</th>\n",
       "      <td>Social Television</td>\n",
       "      <td>Social, Finance, Analytics, Advertising</td>\n",
       "    </tr>\n",
       "    <tr>\n",
       "      <th>6123</th>\n",
       "      <td>Social Travel</td>\n",
       "      <td>Social, Finance, Analytics, Advertising</td>\n",
       "    </tr>\n",
       "    <tr>\n",
       "      <th>6134</th>\n",
       "      <td>Stock Exchanges</td>\n",
       "      <td>Social, Finance, Analytics, Advertising</td>\n",
       "    </tr>\n",
       "    <tr>\n",
       "      <th>6167</th>\n",
       "      <td>Venture Capital</td>\n",
       "      <td>Social, Finance, Analytics, Advertising</td>\n",
       "    </tr>\n",
       "  </tbody>\n",
       "</table>\n",
       "<p>687 rows × 2 columns</p>\n",
       "</div>"
      ],
      "text/plain": [
       "          category_list                              main_sector\n",
       "8      Adventure Travel                      Automotive & Sports\n",
       "14            Aerospace                      Automotive & Sports\n",
       "45                 Auto                      Automotive & Sports\n",
       "46      Automated Kiosk                      Automotive & Sports\n",
       "47           Automotive                      Automotive & Sports\n",
       "...                 ...                                      ...\n",
       "6121  Social Recruiting  Social, Finance, Analytics, Advertising\n",
       "6122  Social Television  Social, Finance, Analytics, Advertising\n",
       "6123      Social Travel  Social, Finance, Analytics, Advertising\n",
       "6134    Stock Exchanges  Social, Finance, Analytics, Advertising\n",
       "6167    Venture Capital  Social, Finance, Analytics, Advertising\n",
       "\n",
       "[687 rows x 2 columns]"
      ]
     },
     "execution_count": 480,
     "metadata": {},
     "output_type": "execute_result"
    }
   ],
   "source": [
    "# Data cleaning - typo error - replace zero(0) with 'na' --- e.g 'Perso0l' -- it should be 'Personal'\n",
    "mapping_df.category_list = mapping_df.category_list.apply(lambda x : x.replace('0','na') if '0' in x else x)\n",
    "mapping_df"
   ]
  },
  {
   "cell_type": "code",
   "execution_count": 481,
   "metadata": {},
   "outputs": [
    {
     "name": "stdout",
     "output_type": "stream",
     "text": [
      "<class 'pandas.core.frame.DataFrame'>\n",
      "Int64Index: 687 entries, 8 to 6167\n",
      "Data columns (total 2 columns):\n",
      " #   Column         Non-Null Count  Dtype \n",
      "---  ------         --------------  ----- \n",
      " 0   category_list  687 non-null    object\n",
      " 1   main_sector    687 non-null    object\n",
      "dtypes: object(2)\n",
      "memory usage: 16.1+ KB\n"
     ]
    }
   ],
   "source": [
    "# Take the 1st word as catogory list if it has '+' separator\n",
    "mapping_df.category_list = mapping_df.category_list.apply(lambda x : x.split('|')[0] if '|' in x else x)\n",
    "mapping_df.info()"
   ]
  },
  {
   "cell_type": "code",
   "execution_count": 482,
   "metadata": {},
   "outputs": [
    {
     "data": {
      "text/plain": [
       "(687, 2)"
      ]
     },
     "execution_count": 482,
     "metadata": {},
     "output_type": "execute_result"
    }
   ],
   "source": [
    "mapping_df.shape"
   ]
  },
  {
   "cell_type": "code",
   "execution_count": 483,
   "metadata": {},
   "outputs": [
    {
     "data": {
      "text/plain": [
       "(43865, 8)"
      ]
     },
     "execution_count": 483,
     "metadata": {},
     "output_type": "execute_result"
    }
   ],
   "source": [
    "top9.shape"
   ]
  },
  {
   "cell_type": "code",
   "execution_count": 484,
   "metadata": {},
   "outputs": [],
   "source": [
    "# Conversion of data type of category list into string\n",
    "top9.category_list=top9.category_list.astype(str)"
   ]
  },
  {
   "cell_type": "code",
   "execution_count": 485,
   "metadata": {},
   "outputs": [
    {
     "data": {
      "text/html": [
       "<div>\n",
       "<style scoped>\n",
       "    .dataframe tbody tr th:only-of-type {\n",
       "        vertical-align: middle;\n",
       "    }\n",
       "\n",
       "    .dataframe tbody tr th {\n",
       "        vertical-align: top;\n",
       "    }\n",
       "\n",
       "    .dataframe thead th {\n",
       "        text-align: right;\n",
       "    }\n",
       "</style>\n",
       "<table border=\"1\" class=\"dataframe\">\n",
       "  <thead>\n",
       "    <tr style=\"text-align: right;\">\n",
       "      <th></th>\n",
       "      <th>company_permalink</th>\n",
       "      <th>funding_round_type</th>\n",
       "      <th>funded_at</th>\n",
       "      <th>raised_amount_usd</th>\n",
       "      <th>name</th>\n",
       "      <th>category_list</th>\n",
       "      <th>status</th>\n",
       "      <th>country_code</th>\n",
       "      <th>primary_sector</th>\n",
       "    </tr>\n",
       "  </thead>\n",
       "  <tbody>\n",
       "    <tr>\n",
       "      <th>0</th>\n",
       "      <td>/organization/-fame</td>\n",
       "      <td>venture</td>\n",
       "      <td>05-01-2015</td>\n",
       "      <td>10000000.00</td>\n",
       "      <td>#fame</td>\n",
       "      <td>Media</td>\n",
       "      <td>operating</td>\n",
       "      <td>IND</td>\n",
       "      <td>Media</td>\n",
       "    </tr>\n",
       "    <tr>\n",
       "      <th>1</th>\n",
       "      <td>/organization/-qounter</td>\n",
       "      <td>venture</td>\n",
       "      <td>14-10-2014</td>\n",
       "      <td>2000000.00</td>\n",
       "      <td>:Qounter</td>\n",
       "      <td>Application Platforms|Real Time|Social Network...</td>\n",
       "      <td>operating</td>\n",
       "      <td>USA</td>\n",
       "      <td>Application Platforms</td>\n",
       "    </tr>\n",
       "    <tr>\n",
       "      <th>5</th>\n",
       "      <td>/organization/004-technologies</td>\n",
       "      <td>venture</td>\n",
       "      <td>24-07-2014</td>\n",
       "      <td>2000000.00</td>\n",
       "      <td>004 Technologies</td>\n",
       "      <td>Software</td>\n",
       "      <td>operating</td>\n",
       "      <td>USA</td>\n",
       "      <td>Software</td>\n",
       "    </tr>\n",
       "    <tr>\n",
       "      <th>8</th>\n",
       "      <td>/organization/0ndine-biomedical-inc</td>\n",
       "      <td>venture</td>\n",
       "      <td>21-12-2009</td>\n",
       "      <td>719491.00</td>\n",
       "      <td>Ondine Biomedical Inc.</td>\n",
       "      <td>Biotechnology</td>\n",
       "      <td>operating</td>\n",
       "      <td>CAN</td>\n",
       "      <td>Biotechnology</td>\n",
       "    </tr>\n",
       "    <tr>\n",
       "      <th>10</th>\n",
       "      <td>/organization/0xdata</td>\n",
       "      <td>venture</td>\n",
       "      <td>09-11-2015</td>\n",
       "      <td>20000000.00</td>\n",
       "      <td>H2O.ai</td>\n",
       "      <td>Analytics</td>\n",
       "      <td>operating</td>\n",
       "      <td>USA</td>\n",
       "      <td>Analytics</td>\n",
       "    </tr>\n",
       "  </tbody>\n",
       "</table>\n",
       "</div>"
      ],
      "text/plain": [
       "                      company_permalink funding_round_type   funded_at  \\\n",
       "0                   /organization/-fame            venture  05-01-2015   \n",
       "1                /organization/-qounter            venture  14-10-2014   \n",
       "5        /organization/004-technologies            venture  24-07-2014   \n",
       "8   /organization/0ndine-biomedical-inc            venture  21-12-2009   \n",
       "10                 /organization/0xdata            venture  09-11-2015   \n",
       "\n",
       "    raised_amount_usd                    name  \\\n",
       "0         10000000.00                   #fame   \n",
       "1          2000000.00                :Qounter   \n",
       "5          2000000.00        004 Technologies   \n",
       "8           719491.00  Ondine Biomedical Inc.   \n",
       "10        20000000.00                  H2O.ai   \n",
       "\n",
       "                                        category_list     status country_code  \\\n",
       "0                                               Media  operating          IND   \n",
       "1   Application Platforms|Real Time|Social Network...  operating          USA   \n",
       "5                                            Software  operating          USA   \n",
       "8                                       Biotechnology  operating          CAN   \n",
       "10                                          Analytics  operating          USA   \n",
       "\n",
       "           primary_sector  \n",
       "0                   Media  \n",
       "1   Application Platforms  \n",
       "5                Software  \n",
       "8           Biotechnology  \n",
       "10              Analytics  "
      ]
     },
     "execution_count": 485,
     "metadata": {},
     "output_type": "execute_result"
    }
   ],
   "source": [
    "# Creating primary sector column in top9 dataframe from category_list\n",
    "top9['primary_sector'] = top9.category_list.apply(lambda x : x.split('|')[0] if '|' in x else x)\n",
    "top9.head()"
   ]
  },
  {
   "cell_type": "code",
   "execution_count": 486,
   "metadata": {},
   "outputs": [
    {
     "data": {
      "text/html": [
       "<div>\n",
       "<style scoped>\n",
       "    .dataframe tbody tr th:only-of-type {\n",
       "        vertical-align: middle;\n",
       "    }\n",
       "\n",
       "    .dataframe tbody tr th {\n",
       "        vertical-align: top;\n",
       "    }\n",
       "\n",
       "    .dataframe thead th {\n",
       "        text-align: right;\n",
       "    }\n",
       "</style>\n",
       "<table border=\"1\" class=\"dataframe\">\n",
       "  <thead>\n",
       "    <tr style=\"text-align: right;\">\n",
       "      <th></th>\n",
       "      <th>company_permalink</th>\n",
       "      <th>funding_round_type</th>\n",
       "      <th>funded_at</th>\n",
       "      <th>raised_amount_usd</th>\n",
       "      <th>name</th>\n",
       "      <th>category_list_x</th>\n",
       "      <th>status</th>\n",
       "      <th>country_code</th>\n",
       "      <th>primary_sector</th>\n",
       "      <th>category_list_y</th>\n",
       "      <th>main_sector</th>\n",
       "    </tr>\n",
       "  </thead>\n",
       "  <tbody>\n",
       "    <tr>\n",
       "      <th>0</th>\n",
       "      <td>/organization/-fame</td>\n",
       "      <td>venture</td>\n",
       "      <td>05-01-2015</td>\n",
       "      <td>10000000.00</td>\n",
       "      <td>#fame</td>\n",
       "      <td>Media</td>\n",
       "      <td>operating</td>\n",
       "      <td>IND</td>\n",
       "      <td>media</td>\n",
       "      <td>media</td>\n",
       "      <td>Entertainment</td>\n",
       "    </tr>\n",
       "    <tr>\n",
       "      <th>1</th>\n",
       "      <td>/organization/-qounter</td>\n",
       "      <td>venture</td>\n",
       "      <td>14-10-2014</td>\n",
       "      <td>2000000.00</td>\n",
       "      <td>:Qounter</td>\n",
       "      <td>Application Platforms|Real Time|Social Network...</td>\n",
       "      <td>operating</td>\n",
       "      <td>USA</td>\n",
       "      <td>application platforms</td>\n",
       "      <td>application platforms</td>\n",
       "      <td>News, Search and Messaging</td>\n",
       "    </tr>\n",
       "    <tr>\n",
       "      <th>2</th>\n",
       "      <td>/organization/004-technologies</td>\n",
       "      <td>venture</td>\n",
       "      <td>24-07-2014</td>\n",
       "      <td>2000000.00</td>\n",
       "      <td>004 Technologies</td>\n",
       "      <td>Software</td>\n",
       "      <td>operating</td>\n",
       "      <td>USA</td>\n",
       "      <td>software</td>\n",
       "      <td>software</td>\n",
       "      <td>Others</td>\n",
       "    </tr>\n",
       "    <tr>\n",
       "      <th>3</th>\n",
       "      <td>/organization/0ndine-biomedical-inc</td>\n",
       "      <td>venture</td>\n",
       "      <td>21-12-2009</td>\n",
       "      <td>719491.00</td>\n",
       "      <td>Ondine Biomedical Inc.</td>\n",
       "      <td>Biotechnology</td>\n",
       "      <td>operating</td>\n",
       "      <td>CAN</td>\n",
       "      <td>biotechnology</td>\n",
       "      <td>biotechnology</td>\n",
       "      <td>Cleantech / Semiconductors</td>\n",
       "    </tr>\n",
       "    <tr>\n",
       "      <th>4</th>\n",
       "      <td>/organization/0xdata</td>\n",
       "      <td>venture</td>\n",
       "      <td>09-11-2015</td>\n",
       "      <td>20000000.00</td>\n",
       "      <td>H2O.ai</td>\n",
       "      <td>Analytics</td>\n",
       "      <td>operating</td>\n",
       "      <td>USA</td>\n",
       "      <td>analytics</td>\n",
       "      <td>analytics</td>\n",
       "      <td>Social, Finance, Analytics, Advertising</td>\n",
       "    </tr>\n",
       "  </tbody>\n",
       "</table>\n",
       "</div>"
      ],
      "text/plain": [
       "                     company_permalink funding_round_type   funded_at  \\\n",
       "0                  /organization/-fame            venture  05-01-2015   \n",
       "1               /organization/-qounter            venture  14-10-2014   \n",
       "2       /organization/004-technologies            venture  24-07-2014   \n",
       "3  /organization/0ndine-biomedical-inc            venture  21-12-2009   \n",
       "4                 /organization/0xdata            venture  09-11-2015   \n",
       "\n",
       "   raised_amount_usd                    name  \\\n",
       "0        10000000.00                   #fame   \n",
       "1         2000000.00                :Qounter   \n",
       "2         2000000.00        004 Technologies   \n",
       "3          719491.00  Ondine Biomedical Inc.   \n",
       "4        20000000.00                  H2O.ai   \n",
       "\n",
       "                                     category_list_x     status country_code  \\\n",
       "0                                              Media  operating          IND   \n",
       "1  Application Platforms|Real Time|Social Network...  operating          USA   \n",
       "2                                           Software  operating          USA   \n",
       "3                                      Biotechnology  operating          CAN   \n",
       "4                                          Analytics  operating          USA   \n",
       "\n",
       "          primary_sector        category_list_y  \\\n",
       "0                  media                  media   \n",
       "1  application platforms  application platforms   \n",
       "2               software               software   \n",
       "3          biotechnology          biotechnology   \n",
       "4              analytics              analytics   \n",
       "\n",
       "                               main_sector  \n",
       "0                            Entertainment  \n",
       "1               News, Search and Messaging  \n",
       "2                                   Others  \n",
       "3               Cleantech / Semiconductors  \n",
       "4  Social, Finance, Analytics, Advertising  "
      ]
     },
     "execution_count": 486,
     "metadata": {},
     "output_type": "execute_result"
    }
   ],
   "source": [
    "# Map each primary sector to one of the eight main sectors in top9 DF with mapping DF\n",
    "\n",
    "# Convert into same letter case\n",
    "top9.primary_sector = top9.primary_sector.apply(lambda x: x.lower())\n",
    "mapping_df.category_list = mapping_df.category_list.apply(lambda x: x.lower())\n",
    "\n",
    "# Merge\n",
    "top9_master=pd.merge(top9, mapping_df, left_on=[\"primary_sector\"], right_on=[\"category_list\"], how=\"left\")\n",
    "top9_master.head()"
   ]
  },
  {
   "cell_type": "code",
   "execution_count": 487,
   "metadata": {},
   "outputs": [
    {
     "data": {
      "text/plain": [
       "Others                                     10189\n",
       "Cleantech / Semiconductors                  9283\n",
       "Social, Finance, Analytics, Advertising     8990\n",
       "News, Search and Messaging                  5304\n",
       "Health                                      3705\n",
       "Manufacturing                               2984\n",
       "Entertainment                               2299\n",
       "Automotive & Sports                          682\n",
       "Name: main_sector, dtype: int64"
      ]
     },
     "execution_count": 487,
     "metadata": {},
     "output_type": "execute_result"
    }
   ],
   "source": [
    "top9_master.main_sector.value_counts()"
   ]
  },
  {
   "cell_type": "code",
   "execution_count": 488,
   "metadata": {},
   "outputs": [
    {
     "data": {
      "text/plain": [
       "(43865, 11)"
      ]
     },
     "execution_count": 488,
     "metadata": {},
     "output_type": "execute_result"
    }
   ],
   "source": [
    "top9_master.shape"
   ]
  },
  {
   "cell_type": "markdown",
   "metadata": {},
   "source": [
    "# 5. Sector Analysis 2"
   ]
  },
  {
   "cell_type": "markdown",
   "metadata": {},
   "source": [
    "- Here we will be analyzing the three countries - ***USA, GBR & IND***"
   ]
  },
  {
   "cell_type": "code",
   "execution_count": 489,
   "metadata": {},
   "outputs": [],
   "source": [
    "# Top 3 countries data frame creation\n",
    "D1 = top9_master[top9_master.country_code=='USA']\n",
    "D2 = top9_master[top9_master.country_code=='GBR']\n",
    "D3 = top9_master[top9_master.country_code=='IND']"
   ]
  },
  {
   "cell_type": "markdown",
   "metadata": {},
   "source": [
    "***1. Total number of investment in each country:***"
   ]
  },
  {
   "cell_type": "code",
   "execution_count": 490,
   "metadata": {},
   "outputs": [
    {
     "name": "stdout",
     "output_type": "stream",
     "text": [
      "Total number of investment for D1 :  38372\n",
      "Total number of investment for D2 :  2303\n",
      "Total number of investment for D3 :  992\n"
     ]
    }
   ],
   "source": [
    "# Total number of investment in each \n",
    "D1_fund_count = D1.raised_amount_usd.count()\n",
    "D2_fund_count = D2.raised_amount_usd.count()\n",
    "D3_fund_count = D3.raised_amount_usd.count()\n",
    "print(\"Total number of investment for D1 : \",D1_fund_count)\n",
    "print(\"Total number of investment for D2 : \",D2_fund_count)\n",
    "print(\"Total number of investment for D3 : \",D3_fund_count)"
   ]
  },
  {
   "cell_type": "markdown",
   "metadata": {},
   "source": [
    "***2. Total investment in each country is :***"
   ]
  },
  {
   "cell_type": "code",
   "execution_count": 491,
   "metadata": {},
   "outputs": [
    {
     "name": "stdout",
     "output_type": "stream",
     "text": [
      "Total amount of investment in D1 :  426976842796.0\n",
      "Total amount of investment in D2 :  20741627416.0\n",
      "Total amount of investment in D3 :  14727858718.0\n"
     ]
    }
   ],
   "source": [
    "# Total amount of investment in each\n",
    "D1_total_investment_amt = D1['raised_amount_usd'].sum()\n",
    "D2_total_investment_amt = D2['raised_amount_usd'].sum()\n",
    "D3_total_investment_amt = D3['raised_amount_usd'].sum()\n",
    "print(\"Total amount of investment in D1 : \", D1_total_investment_amt)\n",
    "print(\"Total amount of investment in D2 : \", D2_total_investment_amt)\n",
    "print(\"Total amount of investment in D3 : \", D3_total_investment_amt)"
   ]
  },
  {
   "cell_type": "markdown",
   "metadata": {},
   "source": [
    "***3. Top sector(number of investment wise) :***"
   ]
  },
  {
   "cell_type": "code",
   "execution_count": 492,
   "metadata": {},
   "outputs": [
    {
     "name": "stdout",
     "output_type": "stream",
     "text": [
      "Number of investment wise top sector in D1 :  main_sector             Others\n",
      "number_of_investment      8763\n",
      "Name: 0, dtype: object\n",
      "Number of investment wise top sector in D2 :  main_sector             Others\n",
      "number_of_investment       580\n",
      "Name: 0, dtype: object\n",
      "Number of investment wise top sector in D3 :  main_sector             Others\n",
      "number_of_investment       332\n",
      "Name: 0, dtype: object\n"
     ]
    }
   ],
   "source": [
    "# Number of investment wise top sector\n",
    "print(\"Number of investment wise top sector in D1 : \", D1[['country_code','main_sector']].groupby(\"main_sector\").count().rename(columns={'country_code': 'number_of_investment'}).sort_values('number_of_investment', ascending=False).reset_index().iloc[0])\n",
    "print(\"Number of investment wise top sector in D2 : \", D2[['country_code','main_sector']].groupby(\"main_sector\").count().rename(columns={'country_code': 'number_of_investment'}).sort_values('number_of_investment', ascending=False).reset_index().iloc[0])\n",
    "print(\"Number of investment wise top sector in D3 : \", D3[['country_code','main_sector']].groupby(\"main_sector\").count().rename(columns={'country_code': 'number_of_investment'}).sort_values('number_of_investment', ascending=False).reset_index().iloc[0])"
   ]
  },
  {
   "cell_type": "markdown",
   "metadata": {},
   "source": [
    "***4. 2nd top sector(number of investment wise) :***"
   ]
  },
  {
   "cell_type": "code",
   "execution_count": 493,
   "metadata": {},
   "outputs": [
    {
     "name": "stdout",
     "output_type": "stream",
     "text": [
      "Number of investment wise 2nd sector in D1 :  main_sector             Cleantech / Semiconductors\n",
      "number_of_investment                          8268\n",
      "Name: 1, dtype: object\n",
      "Number of investment wise 2nd sector in D2 :  main_sector             Social, Finance, Analytics, Advertising\n",
      "number_of_investment                                        481\n",
      "Name: 1, dtype: object\n",
      "Number of investment wise 2nd sector in D3 :  main_sector             Social, Finance, Analytics, Advertising\n",
      "number_of_investment                                        193\n",
      "Name: 1, dtype: object\n"
     ]
    }
   ],
   "source": [
    "# Number of investment wise 2nd sector\n",
    "print(\"Number of investment wise 2nd sector in D1 : \", D1[['country_code','main_sector']].groupby(\"main_sector\").count().rename(columns={'country_code': 'number_of_investment'}).sort_values('number_of_investment', ascending=False).reset_index().iloc[1])\n",
    "print(\"Number of investment wise 2nd sector in D2 : \", D2[['country_code','main_sector']].groupby(\"main_sector\").count().rename(columns={'country_code': 'number_of_investment'}).sort_values('number_of_investment', ascending=False).reset_index().iloc[1])\n",
    "print(\"Number of investment wise 2nd sector in D3 : \", D3[['country_code','main_sector']].groupby(\"main_sector\").count().rename(columns={'country_code': 'number_of_investment'}).sort_values('number_of_investment', ascending=False).reset_index().iloc[1])"
   ]
  },
  {
   "cell_type": "markdown",
   "metadata": {},
   "source": [
    "***5. 3rd top sector(number of investment wise) :***"
   ]
  },
  {
   "cell_type": "code",
   "execution_count": 494,
   "metadata": {},
   "outputs": [
    {
     "name": "stdout",
     "output_type": "stream",
     "text": [
      "Number of investment wise 3rd sector in D1 :  main_sector             Social, Finance, Analytics, Advertising\n",
      "number_of_investment                                       7822\n",
      "Name: 2, dtype: object\n",
      "Number of investment wise 3rd sector in D2 :  main_sector             Cleantech / Semiconductors\n",
      "number_of_investment                           466\n",
      "Name: 2, dtype: object\n",
      "Number of investment wise 3rd sector in D3 :  main_sector             News, Search and Messaging\n",
      "number_of_investment                           154\n",
      "Name: 2, dtype: object\n"
     ]
    }
   ],
   "source": [
    "# Number of investment wise 3rd sector\n",
    "print(\"Number of investment wise 3rd sector in D1 : \", D1[['country_code','main_sector']].groupby(\"main_sector\").count().rename(columns={'country_code': 'number_of_investment'}).sort_values('number_of_investment', ascending=False).reset_index().iloc[2])\n",
    "print(\"Number of investment wise 3rd sector in D2 : \", D2[['country_code','main_sector']].groupby(\"main_sector\").count().rename(columns={'country_code': 'number_of_investment'}).sort_values('number_of_investment', ascending=False).reset_index().iloc[2])\n",
    "print(\"Number of investment wise 3rd sector in D3 : \", D3[['country_code','main_sector']].groupby(\"main_sector\").count().rename(columns={'country_code': 'number_of_investment'}).sort_values('number_of_investment', ascending=False).reset_index().iloc[2])"
   ]
  },
  {
   "cell_type": "markdown",
   "metadata": {},
   "source": [
    "***6. Top company with highest investment amount:***"
   ]
  },
  {
   "cell_type": "code",
   "execution_count": 495,
   "metadata": {},
   "outputs": [
    {
     "name": "stdout",
     "output_type": "stream",
     "text": [
      "Top investment company in the top sector(Others) in D1(USA) :  social-finance\n",
      "Top investment company in the top sector(Others) in D2(GBR) :  oneweb\n",
      "Top investment company in the top sector(Others) in D3(IND) :  flipkart\n"
     ]
    }
   ],
   "source": [
    "# Get Top main sector only \n",
    "D1_comp = D1[D1.main_sector=='Others'][[\"main_sector\",\"company_permalink\",\"raised_amount_usd\"]]\n",
    "D2_comp = D2[D2.main_sector=='Others'][[\"main_sector\",\"company_permalink\",\"raised_amount_usd\"]]\n",
    "D3_comp = D3[D3.main_sector=='Others'][[\"main_sector\",\"company_permalink\",\"raised_amount_usd\"]]\n",
    "\n",
    "# Top investment company in the top sector \n",
    "print(\"Top investment company in the top sector(Others) in D1(USA) : \",D1_comp[[\"main_sector\",\"company_permalink\",\"raised_amount_usd\"]].groupby([\"main_sector\",\"company_permalink\"]).sum('raised_amount_usd').sort_values('raised_amount_usd', ascending=False).reset_index().iloc[0]['company_permalink'].split('/')[2])\n",
    "print(\"Top investment company in the top sector(Others) in D2(GBR) : \",D2_comp[[\"main_sector\",\"company_permalink\",\"raised_amount_usd\"]].groupby([\"main_sector\",\"company_permalink\"]).sum('raised_amount_usd').sort_values('raised_amount_usd', ascending=False).reset_index().iloc[0]['company_permalink'].split('/')[2])\n",
    "print(\"Top investment company in the top sector(Others) in D3(IND) : \",D3_comp[[\"main_sector\",\"company_permalink\",\"raised_amount_usd\"]].groupby([\"main_sector\",\"company_permalink\"]).sum('raised_amount_usd').sort_values('raised_amount_usd', ascending=False).reset_index().iloc[0]['company_permalink'].split('/')[2])"
   ]
  },
  {
   "cell_type": "markdown",
   "metadata": {},
   "source": [
    "***7. 2nd top company with highest investment amount:***"
   ]
  },
  {
   "cell_type": "code",
   "execution_count": 496,
   "metadata": {},
   "outputs": [
    {
     "name": "stdout",
     "output_type": "stream",
     "text": [
      "Top investment company in the 2nd main sector(Others) in D1(USA) :  freescale\n",
      "Top investment company in the 2nd main sector(Others) in D2(GBR) :  powa-technologies\n",
      "Top investment company in the 2nd main sector(Others) in D3(IND) :  shopclues-com\n"
     ]
    }
   ],
   "source": [
    "# Get 2nd main sector only \n",
    "D1_comp = D1[D1.main_sector=='Cleantech / Semiconductors'][[\"main_sector\",\"company_permalink\",\"raised_amount_usd\"]]\n",
    "D2_comp = D2[D2.main_sector=='Social, Finance, Analytics, Advertising'][[\"main_sector\",\"company_permalink\",\"raised_amount_usd\"]]\n",
    "D3_comp = D3[D3.main_sector=='Social, Finance, Analytics, Advertising'][[\"main_sector\",\"company_permalink\",\"raised_amount_usd\"]]\n",
    "\n",
    "# Top investment company in the 2nd top sector \n",
    "print(\"Top investment company in the 2nd main sector(Others) in D1(USA) : \",D1_comp[[\"main_sector\",\"company_permalink\",\"raised_amount_usd\"]].groupby([\"main_sector\",\"company_permalink\"]).sum('raised_amount_usd').sort_values('raised_amount_usd', ascending=False).reset_index().iloc[0]['company_permalink'].split('/')[2])\n",
    "print(\"Top investment company in the 2nd main sector(Others) in D2(GBR) : \",D2_comp[[\"main_sector\",\"company_permalink\",\"raised_amount_usd\"]].groupby([\"main_sector\",\"company_permalink\"]).sum('raised_amount_usd').sort_values('raised_amount_usd', ascending=False).reset_index().iloc[0]['company_permalink'].split('/')[2])\n",
    "print(\"Top investment company in the 2nd main sector(Others) in D3(IND) : \",D3_comp[[\"main_sector\",\"company_permalink\",\"raised_amount_usd\"]].groupby([\"main_sector\",\"company_permalink\"]).sum('raised_amount_usd').sort_values('raised_amount_usd', ascending=False).reset_index().iloc[0]['company_permalink'].split('/')[2])"
   ]
  },
  {
   "cell_type": "code",
   "execution_count": 497,
   "metadata": {},
   "outputs": [
    {
     "data": {
      "text/plain": [
       "(41667, 11)"
      ]
     },
     "execution_count": 497,
     "metadata": {},
     "output_type": "execute_result"
    }
   ],
   "source": [
    "# Append all three countries data frame\n",
    "D12=D1.append(D2, ignore_index=True)\n",
    "top_countries = D12.append(D3,ignore_index=True)\n",
    "top_countries.shape"
   ]
  },
  {
   "cell_type": "markdown",
   "metadata": {},
   "source": [
    "### 6. Sector analysis plot "
   ]
  },
  {
   "cell_type": "markdown",
   "metadata": {},
   "source": [
    "##### 6.1 Representative amount plot"
   ]
  },
  {
   "cell_type": "code",
   "execution_count": 498,
   "metadata": {},
   "outputs": [
    {
     "data": {
      "image/png": "[encoded data removed]",
      "text/plain": [
       "<Figure size 864x576 with 1 Axes>"
      ]
     },
     "metadata": {},
     "output_type": "display_data"
    }
   ],
   "source": [
    "# Plot showing the representative amount of investment in each funding type\n",
    "plt.figure(figsize=(12,8))\n",
    "\n",
    "plt.subplot(2,1,1)\n",
    "ax = sns.barplot(x='funding_round_type', y='raised_amount_usd', data=median_df)\n",
    "ax.set_xticklabels(ax.get_xticklabels(),rotation=30)\n",
    "plt.yscale(\"log\")\n",
    "plt.title(\"Representative amount across all four funds\")\n",
    "\n",
    "plt.show()"
   ]
  },
  {
   "cell_type": "markdown",
   "metadata": {},
   "source": [
    "##### 6.2 Sector and country wise investment and number of investment plot"
   ]
  },
  {
   "cell_type": "code",
   "execution_count": 499,
   "metadata": {},
   "outputs": [
    {
     "data": {
      "image/png": "[encoded data removed]",
      "text/plain": [
       "<Figure size 1296x1008 with 1 Axes>"
      ]
     },
     "metadata": {},
     "output_type": "display_data"
    }
   ],
   "source": [
    "# Plotting sector wise  sum of investments in the top three countries\n",
    "plt.figure(figsize=(18,14))\n",
    "\n",
    "plt.subplot(2,1,1)\n",
    "ax = sns.barplot(x='main_sector', y='raised_amount_usd', hue='country_code', data=top_countries, estimator=np.sum)\n",
    "ax.set_xticklabels(ax.get_xticklabels(),rotation=30)\n",
    "plt.yscale(\"log\")\n",
    "plt.title(\"Total invested amount\")\n",
    "\n",
    "plt.show()"
   ]
  },
  {
   "cell_type": "code",
   "execution_count": 500,
   "metadata": {},
   "outputs": [],
   "source": [
    "# Coutry and sector wise number of investment\n",
    "df = top_countries[['country_code','main_sector','funded_at']].groupby([\"country_code\",\"main_sector\",]).count().rename(columns={'funded_at': 'number_of_investment'}).sort_values('number_of_investment', ascending=False).reset_index()                "
   ]
  },
  {
   "cell_type": "code",
   "execution_count": 501,
   "metadata": {},
   "outputs": [
    {
     "data": {
      "image/png": "[encoded data removed]",
      "text/plain": [
       "<Figure size 1296x1008 with 1 Axes>"
      ]
     },
     "metadata": {},
     "output_type": "display_data"
    }
   ],
   "source": [
    "# Plotting sector wise count for all top 3 countries\n",
    "\n",
    "plt.figure(figsize=(18,14))\n",
    "plt.subplot(2,1,2)\n",
    "bx = sns.barplot(x='main_sector', y='number_of_investment', hue=\"country_code\", data=df)\n",
    "bx.set_xticklabels(bx.get_xticklabels(),rotation=30)\n",
    "plt.yscale(\"log\")\n",
    "plt.title(\"Number of investments\")\n",
    "plt.show()"
   ]
  },
  {
   "cell_type": "markdown",
   "metadata": {},
   "source": [
    "##### 6.3 Top 3 sectors of the Top 3 countries plot \n",
    " - Investment wise"
   ]
  },
  {
   "cell_type": "code",
   "execution_count": 502,
   "metadata": {},
   "outputs": [
    {
     "data": {
      "text/plain": [
       "0                 Cleantech / Semiconductors\n",
       "1                                     Others\n",
       "2    Social, Finance, Analytics, Advertising\n",
       "Name: main_sector, dtype: object"
      ]
     },
     "execution_count": 502,
     "metadata": {},
     "output_type": "execute_result"
    }
   ],
   "source": [
    "# get the top 3 sectors DF of top 3 companies\n",
    "top_countries.groupby(['main_sector']).sum(\"raised_amount_usd\").sort_values('raised_amount_usd', ascending=False).reset_index()[\"main_sector\"].iloc[:3]"
   ]
  },
  {
   "cell_type": "code",
   "execution_count": 503,
   "metadata": {},
   "outputs": [
    {
     "data": {
      "text/html": [
       "<div>\n",
       "<style scoped>\n",
       "    .dataframe tbody tr th:only-of-type {\n",
       "        vertical-align: middle;\n",
       "    }\n",
       "\n",
       "    .dataframe tbody tr th {\n",
       "        vertical-align: top;\n",
       "    }\n",
       "\n",
       "    .dataframe thead th {\n",
       "        text-align: right;\n",
       "    }\n",
       "</style>\n",
       "<table border=\"1\" class=\"dataframe\">\n",
       "  <thead>\n",
       "    <tr style=\"text-align: right;\">\n",
       "      <th></th>\n",
       "      <th>company_permalink</th>\n",
       "      <th>funding_round_type</th>\n",
       "      <th>funded_at</th>\n",
       "      <th>raised_amount_usd</th>\n",
       "      <th>name</th>\n",
       "      <th>category_list_x</th>\n",
       "      <th>status</th>\n",
       "      <th>country_code</th>\n",
       "      <th>primary_sector</th>\n",
       "      <th>category_list_y</th>\n",
       "      <th>main_sector</th>\n",
       "    </tr>\n",
       "  </thead>\n",
       "  <tbody>\n",
       "    <tr>\n",
       "      <th>1</th>\n",
       "      <td>/organization/004-technologies</td>\n",
       "      <td>venture</td>\n",
       "      <td>24-07-2014</td>\n",
       "      <td>2000000.00</td>\n",
       "      <td>004 Technologies</td>\n",
       "      <td>Software</td>\n",
       "      <td>operating</td>\n",
       "      <td>USA</td>\n",
       "      <td>software</td>\n",
       "      <td>software</td>\n",
       "      <td>Others</td>\n",
       "    </tr>\n",
       "    <tr>\n",
       "      <th>2</th>\n",
       "      <td>/organization/0xdata</td>\n",
       "      <td>venture</td>\n",
       "      <td>09-11-2015</td>\n",
       "      <td>20000000.00</td>\n",
       "      <td>H2O.ai</td>\n",
       "      <td>Analytics</td>\n",
       "      <td>operating</td>\n",
       "      <td>USA</td>\n",
       "      <td>analytics</td>\n",
       "      <td>analytics</td>\n",
       "      <td>Social, Finance, Analytics, Advertising</td>\n",
       "    </tr>\n",
       "    <tr>\n",
       "      <th>3</th>\n",
       "      <td>/organization/0xdata</td>\n",
       "      <td>venture</td>\n",
       "      <td>03-01-2013</td>\n",
       "      <td>1700000.00</td>\n",
       "      <td>H2O.ai</td>\n",
       "      <td>Analytics</td>\n",
       "      <td>operating</td>\n",
       "      <td>USA</td>\n",
       "      <td>analytics</td>\n",
       "      <td>analytics</td>\n",
       "      <td>Social, Finance, Analytics, Advertising</td>\n",
       "    </tr>\n",
       "    <tr>\n",
       "      <th>4</th>\n",
       "      <td>/organization/0xdata</td>\n",
       "      <td>venture</td>\n",
       "      <td>19-07-2014</td>\n",
       "      <td>8900000.00</td>\n",
       "      <td>H2O.ai</td>\n",
       "      <td>Analytics</td>\n",
       "      <td>operating</td>\n",
       "      <td>USA</td>\n",
       "      <td>analytics</td>\n",
       "      <td>analytics</td>\n",
       "      <td>Social, Finance, Analytics, Advertising</td>\n",
       "    </tr>\n",
       "    <tr>\n",
       "      <th>13</th>\n",
       "      <td>/organization/100plus</td>\n",
       "      <td>venture</td>\n",
       "      <td>02-11-2011</td>\n",
       "      <td>500000.00</td>\n",
       "      <td>100Plus</td>\n",
       "      <td>Analytics</td>\n",
       "      <td>acquired</td>\n",
       "      <td>USA</td>\n",
       "      <td>analytics</td>\n",
       "      <td>analytics</td>\n",
       "      <td>Social, Finance, Analytics, Advertising</td>\n",
       "    </tr>\n",
       "  </tbody>\n",
       "</table>\n",
       "</div>"
      ],
      "text/plain": [
       "                 company_permalink funding_round_type   funded_at  \\\n",
       "1   /organization/004-technologies            venture  24-07-2014   \n",
       "2             /organization/0xdata            venture  09-11-2015   \n",
       "3             /organization/0xdata            venture  03-01-2013   \n",
       "4             /organization/0xdata            venture  19-07-2014   \n",
       "13           /organization/100plus            venture  02-11-2011   \n",
       "\n",
       "    raised_amount_usd              name category_list_x     status  \\\n",
       "1          2000000.00  004 Technologies        Software  operating   \n",
       "2         20000000.00            H2O.ai       Analytics  operating   \n",
       "3          1700000.00            H2O.ai       Analytics  operating   \n",
       "4          8900000.00            H2O.ai       Analytics  operating   \n",
       "13          500000.00           100Plus       Analytics   acquired   \n",
       "\n",
       "   country_code primary_sector category_list_y  \\\n",
       "1           USA       software        software   \n",
       "2           USA      analytics       analytics   \n",
       "3           USA      analytics       analytics   \n",
       "4           USA      analytics       analytics   \n",
       "13          USA      analytics       analytics   \n",
       "\n",
       "                                main_sector  \n",
       "1                                    Others  \n",
       "2   Social, Finance, Analytics, Advertising  \n",
       "3   Social, Finance, Analytics, Advertising  \n",
       "4   Social, Finance, Analytics, Advertising  \n",
       "13  Social, Finance, Analytics, Advertising  "
      ]
     },
     "execution_count": 503,
     "metadata": {},
     "output_type": "execute_result"
    }
   ],
   "source": [
    "# get the top 3 sectors DF\n",
    "top_countries_and_sectors=top_countries[((top_countries.main_sector=='Others')|(top_countries.main_sector=='Cleantech / Semiconductors')|(top_countries.main_sector=='Social, Finance, Analytics, Advertising'))]\n",
    "top_countries_and_sectors.head()"
   ]
  },
  {
   "cell_type": "code",
   "execution_count": 504,
   "metadata": {},
   "outputs": [
    {
     "data": {
      "image/png": "[encoded data removed]",
      "text/plain": [
       "<Figure size 864x720 with 1 Axes>"
      ]
     },
     "metadata": {},
     "output_type": "display_data"
    }
   ],
   "source": [
    "# Plotting sector wise  sum of investments in the top three countries' to sectors\n",
    "plt.figure(figsize=(12,10))\n",
    "\n",
    "plt.subplot(2,1,1)\n",
    "sns.barplot(x='main_sector', y='raised_amount_usd', hue='country_code', data=top_countries_and_sectors, estimator=np.sum)\n",
    "plt.yscale(\"log\")\n",
    "plt.title(\"Top sector wise top countries' total investment amount\")\n",
    "\n",
    "plt.show()"
   ]
  },
  {
   "cell_type": "markdown",
   "metadata": {},
   "source": [
    "- Number of investment wise plot is shown below"
   ]
  },
  {
   "cell_type": "code",
   "execution_count": 505,
   "metadata": {},
   "outputs": [],
   "source": [
    "# Coutry and sector wise number of investment\n",
    "df_count = top_countries_and_sectors[['country_code','main_sector','funded_at']].groupby([\"country_code\",\"main_sector\",]).count().rename(columns={'funded_at': 'number_of_investment'}).sort_values('number_of_investment', ascending=False).reset_index()                "
   ]
  },
  {
   "cell_type": "code",
   "execution_count": 506,
   "metadata": {},
   "outputs": [
    {
     "data": {
      "image/png": "[encoded data removed]",
      "text/plain": [
       "<Figure size 864x720 with 1 Axes>"
      ]
     },
     "metadata": {},
     "output_type": "display_data"
    }
   ],
   "source": [
    "# Plotting sector wise count for all top 3 countries\n",
    "\n",
    "plt.figure(figsize=(12,10))\n",
    "plt.subplot(2,1,2)\n",
    "bx = sns.barplot(x='main_sector', y='number_of_investment', hue=\"country_code\", data=df_count)\n",
    "plt.title(\"Top sector wise top countries' total number of investment\")\n",
    "plt.show()"
   ]
  },
  {
   "cell_type": "markdown",
   "metadata": {},
   "source": [
    "### Conclusion : \n",
    "On the basis of above analysis based on the the Spark fund's requirement\n",
    "- Top investment country is ***USA***\n",
    "- Top sector is ***Others***\n",
    "- Top company is ***social-finance***"
   ]
  },
  {
   "cell_type": "markdown",
   "metadata": {},
   "source": [
    "***//-------END--------//***"
   ]
  }
 ],
 "metadata": {
  "kernelspec": {
   "display_name": "Python 3",
   "language": "python",
   "name": "python3"
  },
  "language_info": {
   "codemirror_mode": {
    "name": "ipython",
    "version": 3
   },
   "file_extension": ".py",
   "mimetype": "text/x-python",
   "name": "python",
   "nbconvert_exporter": "python",
   "pygments_lexer": "ipython3",
   "version": "3.8.5"
  }
 },
 "nbformat": 4,
 "nbformat_minor": 4
}
